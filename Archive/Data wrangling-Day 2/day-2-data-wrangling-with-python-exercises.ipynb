{
 "cells": [
  {
   "cell_type": "markdown",
   "metadata": {},
   "source": [
    "# Day 2 Data wrangling with Python - Exercises"
   ]
  },
  {
   "cell_type": "markdown",
   "metadata": {},
   "source": [
    "## Exercise 1"
   ]
  },
  {
   "cell_type": "markdown",
   "metadata": {},
   "source": [
    "#### Question 1\n",
    "##### Create an array of 25 numbers between 1 and 100 (including 100) and save to `arr1` variable.\n",
    "##### Pring the type and data type of `arr1`.\n",
    "\n",
    "#### Answer:"
   ]
  },
  {
   "cell_type": "markdown",
   "metadata": {},
   "source": [
    "#### Question 2\n",
    "##### Create an array of 20 numbers from 50 to 70 (excluding 70).\n",
    "##### Use `arange` function and assign the output to `arr2` variable.\n",
    "\n",
    "#### Answer:"
   ]
  },
  {
   "cell_type": "markdown",
   "metadata": {},
   "source": [
    "#### Question 3\n",
    "##### Create an array of all even numbers between 30 and 60 (excluding 60).\n",
    "##### Create an array of numbers between 0 and 100 (including 100), with step size of 25.\n",
    "\n",
    "#### Answer:"
   ]
  },
  {
   "cell_type": "markdown",
   "metadata": {},
   "source": [
    "#### Question 4\n",
    "##### Create an array of 10 numbers between 0 and 20 (including 20) assign to `arr3` variable.\n",
    "##### Use linspace function.\n",
    "##### Find the max, min and sum of the array.\n",
    "\n",
    "#### Answer:"
   ]
  },
  {
   "cell_type": "markdown",
   "metadata": {},
   "source": [
    "#### Question 5\n",
    "##### Create two arrays of size 4 with the numbers 4, 5, 6, 4 in `array1` and 7, 2, 12, 16 in `array2`.\n",
    "##### Find the `sum`,  `product`, `difference` and `quotient` of `array1` and `array2` and save as `array_sum`, `product`, `difference`, and `quotient` variables respectively.\n",
    "##### Print the results.\n",
    "\n",
    "#### Answer:"
   ]
  },
  {
   "cell_type": "markdown",
   "metadata": {},
   "source": [
    "## Exercise 2\n",
    "\n",
    "#### Question 1\n",
    "##### Compute the absolute value of each entry in the following array `[5, -8, -66, 4]` and assign it to `abs_values` variable. Print the result.\n",
    "##### Print the length of the `abs_values` array.\n",
    "##### Print the 3rd element of `abs_values`.\n",
    "\n",
    "#### Answer:"
   ]
  },
  {
   "cell_type": "markdown",
   "metadata": {},
   "source": [
    "#### Question 2\n",
    "##### Print all numbers greater than 25 in `abs_values` array.\n",
    "\n",
    "#### Answer:"
   ]
  },
  {
   "cell_type": "markdown",
   "metadata": {},
   "source": [
    "#### Question 3\n",
    "##### Create a matrix with 3 rows and assign to variable `mat1`.\n",
    "- [4, 5, 6]\n",
    "- [8, 3, 2]\n",
    "- [6, 7, 3]\n",
    "\n",
    "##### Find the shape of the matrix.\n",
    "\n",
    "#### Answer:"
   ]
  },
  {
   "cell_type": "markdown",
   "metadata": {},
   "source": [
    "#### Question 4\n",
    "##### Find the value in the 2nd row and 3rd column.\n",
    "##### Print the 2nd and 3rd rows.\n",
    "##### Print the 1st column and rows up to the 2nd row.\n",
    "##### Print all columns starting with column 2.\n",
    "\n",
    "#### Answer:"
   ]
  },
  {
   "cell_type": "markdown",
   "metadata": {},
   "source": [
    "#### Question 5\n",
    "##### Filter and print the elements greater than 5 in `mat1`.\n",
    "##### Use a Boolean mask to filter all elements <= 5 and set them to 0.\n",
    "##### Print the resulting matrix.\n",
    "\n",
    "#### Answer:"
   ]
  },
  {
   "cell_type": "markdown",
   "metadata": {},
   "source": [
    "#### Question 6\n",
    "##### Create a `numpy` array of 16 numbers between 10 and 25 (inclusive), and call it `arr4`. Use linspace function.\n",
    "##### Reshape the array to a matrix of shape (4,4) and print it.\n",
    "##### Reshape the array to a matrix with 8 rows and let Python infer the number of columns.\n",
    "\n",
    "#### Answer:"
   ]
  },
  {
   "cell_type": "markdown",
   "metadata": {},
   "source": [
    "#### Question 7\n",
    "##### Import `pandas` as `pd` and `os` packages.\n",
    "##### Set the working directory to data directory.\n",
    "##### Print the working directory.\n",
    "\n",
    "#### Answer:"
   ]
  }
 ],
 "metadata": {
  "kernelspec": {
   "display_name": "Python 3",
   "language": "python",
   "name": "python3"
  },
  "language_info": {
   "codemirror_mode": {
    "name": "ipython",
    "version": 3
   },
   "file_extension": ".py",
   "mimetype": "text/x-python",
   "name": "python",
   "nbconvert_exporter": "python",
   "pygments_lexer": "ipython3",
   "version": "3.7.6"
  }
 },
 "nbformat": 4,
 "nbformat_minor": 4
}
