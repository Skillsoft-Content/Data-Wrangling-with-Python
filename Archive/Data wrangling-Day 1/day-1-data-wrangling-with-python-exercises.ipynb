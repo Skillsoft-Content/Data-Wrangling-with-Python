{
 "cells": [
  {
   "cell_type": "markdown",
   "metadata": {},
   "source": [
    "# Day 1 - Data wrangling with Python - Exercises"
   ]
  },
  {
   "cell_type": "markdown",
   "metadata": {},
   "source": [
    "## Exercise 1\n",
    "\n",
    "#### Question 1\n",
    "##### Assign variable `x` as your age and variable `y` as your neighbor's age.\n",
    "##### Print `x` and `y`. \n",
    "##### Now swap `x` and `y` and print the result.\n",
    "\n",
    "#### Answer:"
   ]
  },
  {
   "cell_type": "code",
   "execution_count": null,
   "metadata": {},
   "outputs": [],
   "source": []
  },
  {
   "cell_type": "markdown",
   "metadata": {},
   "source": [
    "#### Question 2\n",
    "##### Create a variable `numbers` with values 12345 as a string\n",
    "##### Print the first and last elements in `numbers`\n",
    "##### Print the length of the `numbers`.\n",
    "##### Convert the type of `numbers` to integer\n",
    "##### Print the type to verify your answer\n",
    "\n",
    "#### Answer:"
   ]
  },
  {
   "cell_type": "code",
   "execution_count": null,
   "metadata": {},
   "outputs": [],
   "source": []
  },
  {
   "cell_type": "markdown",
   "metadata": {},
   "source": [
    "#### Question 3\n",
    "##### Create a `PrintHello` function so that it takes a name of a person as an argument and prints \"Hello, [name]!\".\n",
    "##### Call the function to test whether it is working properly. Try out a few different names. \n",
    "\n",
    "#### Answer:"
   ]
  },
  {
   "cell_type": "code",
   "execution_count": null,
   "metadata": {},
   "outputs": [],
   "source": []
  },
  {
   "cell_type": "markdown",
   "metadata": {},
   "source": [
    "#### Question 4\n",
    "##### Modify the function from Question 2 and name it `GetHelloMessage` so that it returns the message to be printed, but doesn't print it.\n",
    "##### Call the function, assign its output to a variable `output_message` and then print the `output_message`.\n",
    "\n",
    "#### Answer:"
   ]
  },
  {
   "cell_type": "code",
   "execution_count": null,
   "metadata": {},
   "outputs": [],
   "source": []
  },
  {
   "cell_type": "markdown",
   "metadata": {},
   "source": [
    "#### Question 5\n",
    "##### Create a function called `find_range()` that takes a parameter `x`.\n",
    "##### Return two numbers `x-10` and `x+10`.\n",
    "##### Call the function by passing 25 to the function.\n",
    "\n",
    "#### Answer:"
   ]
  },
  {
   "cell_type": "code",
   "execution_count": null,
   "metadata": {},
   "outputs": [],
   "source": []
  },
  {
   "cell_type": "markdown",
   "metadata": {},
   "source": [
    "#### Question 6\n",
    "##### Create a function named `find_sum` that takes two parameters `a` and `b` and returns their sum.\n",
    "##### Let `a` have a default value equal to 3 and `b` have a default value equal to 2.\n",
    "##### Call the function without providing any arguments. What value do you get as a result?\n",
    "##### Call the function by giving it the 2 arguments: 7 and 10.\n",
    "##### Call the function providing a single argument 9 to the function. What value do you get in return?\n",
    "\n",
    "#### Answer:"
   ]
  },
  {
   "cell_type": "code",
   "execution_count": null,
   "metadata": {},
   "outputs": [],
   "source": []
  },
  {
   "cell_type": "markdown",
   "metadata": {},
   "source": [
    "#### Question 7\n",
    "##### Create an anonymous function that returns a reversed string and assign it to `palindrome` variable.\n",
    "##### Call the function and use \"No lemon, no melon\" as the input and print the result.\n",
    "\n",
    "#### Answer:"
   ]
  },
  {
   "cell_type": "code",
   "execution_count": null,
   "metadata": {},
   "outputs": [],
   "source": []
  },
  {
   "cell_type": "markdown",
   "metadata": {},
   "source": [
    "#### Question 8\n",
    "##### Create a function called `factorial` which returns the factorial value of the given number `x`.\n",
    "##### Call the function to print the factorial of 5, try a few other values.\n",
    "##### _Hint: 4 factorial (4!) = 4 x 3 x 2 x 1 = 24._\n",
    "\n",
    "#### Answer:"
   ]
  },
  {
   "cell_type": "code",
   "execution_count": null,
   "metadata": {},
   "outputs": [],
   "source": []
  }
 ],
 "metadata": {
  "kernelspec": {
   "display_name": "Python 3",
   "language": "python",
   "name": "python3"
  },
  "language_info": {
   "codemirror_mode": {
    "name": "ipython",
    "version": 3
   },
   "file_extension": ".py",
   "mimetype": "text/x-python",
   "name": "python",
   "nbconvert_exporter": "python",
   "pygments_lexer": "ipython3",
   "version": "3.7.6"
  }
 },
 "nbformat": 4,
 "nbformat_minor": 4
}