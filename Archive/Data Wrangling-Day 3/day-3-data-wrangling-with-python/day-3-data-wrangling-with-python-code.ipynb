{
 "cells": [
  {
   "cell_type": "code",
   "execution_count": null,
   "id": "007e9c26",
   "metadata": {},
   "outputs": [],
   "source": [
    "#######################################################\n",
    "#######################################################\n",
    "############    COPYRIGHT - DATA SOCIETY   ############\n",
    "#######################################################\n",
    "#######################################################\n",
    "\n",
    "## DAY 3 DATA WRANGLING WITH PYTHON/DAY 3 DATA WRANGLING WITH PYTHON ##\n",
    "\n",
    "## NOTE: To run individual pieces of code, select the line of code and\n",
    "##       press ctrl + enter for PCs or command + enter for Macs\n",
    "\n",
    "\n"
   ]
  },
  {
   "cell_type": "code",
   "execution_count": null,
   "id": "30e50c79",
   "metadata": {},
   "outputs": [],
   "source": [
    "#=================================================-\n",
    "#### Slide 4: Import Pandas and os  ####\n",
    "\n",
    "import pandas as pd\n",
    "import numpy as np\n",
    "import os\n",
    "\n",
    "\n"
   ]
  },
  {
   "cell_type": "code",
   "execution_count": null,
   "id": "df6c0de8",
   "metadata": {},
   "outputs": [],
   "source": [
    "#=================================================-\n",
    "#### Slide 5: Series  ####\n",
    "\n",
    "num_series = pd.Series([45, 89, 67, 33])\n",
    "print(num_series)\n",
    "print(num_series.values)\n",
    "\n",
    "\n"
   ]
  },
  {
   "cell_type": "code",
   "execution_count": null,
   "id": "2b1402bf",
   "metadata": {},
   "outputs": [],
   "source": [
    "#=================================================-\n",
    "#### Slide 6: Date series: ranges by month  ####\n",
    "\n",
    "# Go in intervals of month.\n",
    "print(pd.date_range(start = '20170101', end = '20170331', freq = 'M'))\n",
    "# Not specifying end, but instead the start, freq, and how many periods.\n",
    "print(pd.date_range(start = '20170101', freq = 'M', periods = 4))\n",
    "\n",
    "\n"
   ]
  },
  {
   "cell_type": "code",
   "execution_count": null,
   "id": "fa6b9bce",
   "metadata": {},
   "outputs": [],
   "source": [
    "#=================================================-\n",
    "#### Slide 7: Date series: ranges by hour  ####\n",
    "\n",
    "print(pd.date_range(start = '20170101', end = '20170102', freq = 'H'))\n",
    "\n",
    "\n"
   ]
  },
  {
   "cell_type": "code",
   "execution_count": null,
   "id": "6379c619",
   "metadata": {},
   "outputs": [],
   "source": [
    "#=================================================-\n",
    "#### Slide 8: Series methods  ####\n",
    "\n",
    "norm_series = pd.Series(np.arange(5, 20, 5))\n",
    "print(norm_series)\n",
    "\n",
    "\n"
   ]
  },
  {
   "cell_type": "code",
   "execution_count": null,
   "id": "f141acac",
   "metadata": {},
   "outputs": [],
   "source": [
    "#=================================================-\n",
    "#### Slide 9: Series - functions  ####\n",
    "\n",
    "print(norm_series.shape)    #<- number of rows and columns\n",
    "\n",
    "print(norm_series.mean())   #<- series mean\n",
    "\n",
    "print(norm_series.median()) #<- series median\n",
    "\n",
    "print(norm_series.std())    #<- series std deviation\n",
    "\n",
    "\n"
   ]
  },
  {
   "cell_type": "code",
   "execution_count": null,
   "id": "f5f07439",
   "metadata": {},
   "outputs": [],
   "source": [
    "#=================================================-\n",
    "#### Slide 10: Series - functions  ####\n",
    "\n",
    "# Show number of unique values.\n",
    "print(norm_series.nunique())      \n",
    "# Position of the max value.\n",
    "print(norm_series.idxmax())       \n",
    "\n",
    "\n"
   ]
  },
  {
   "cell_type": "code",
   "execution_count": null,
   "id": "46c030bd",
   "metadata": {},
   "outputs": [],
   "source": [
    "#=================================================-\n",
    "#### Slide 12: Series - sort and cumulative sum  ####\n",
    "\n",
    "# Returns a series that is the cumulative sum of `norm_series`. \n",
    "print(norm_series.cumsum())       \n",
    "\n",
    "\n"
   ]
  },
  {
   "cell_type": "code",
   "execution_count": null,
   "id": "fc2e6ccc",
   "metadata": {},
   "outputs": [],
   "source": [
    "#=================================================-\n",
    "#### Slide 14: Exercise 1  ####\n",
    "\n",
    "\n",
    "\n",
    "\n"
   ]
  },
  {
   "cell_type": "code",
   "execution_count": null,
   "id": "a65047f4",
   "metadata": {},
   "outputs": [],
   "source": [
    "#=================================================-\n",
    "#### Slide 17: Series to dataframe  ####\n",
    "\n",
    "# Series 1 - times:\n",
    "times = pd.date_range(start = '20170101', end = '20170630', freq = 'M')\n",
    "\n",
    "# Series 2 - days out of the office:\n",
    "days = pd.Series([2, 2, 6, 6, 2, 3])\n",
    "            \n",
    "\n",
    "\n"
   ]
  },
  {
   "cell_type": "code",
   "execution_count": null,
   "id": "c02fb4ad",
   "metadata": {},
   "outputs": [],
   "source": [
    "#=================================================-\n",
    "#### Slide 18: Generate dataframe from series  ####\n",
    "\n",
    "# Create a dataframe from the two series we just created, as a dictionary.\n",
    "average_ooo = pd.DataFrame({'Timestamp': times, 'OOO': days})\n",
    "\n",
    "# View the first few rows of the dataframe, using the pandas function `.head()`.\n",
    "print(average_ooo.head())\n",
    "\n",
    "\n"
   ]
  },
  {
   "cell_type": "code",
   "execution_count": null,
   "id": "4648ec1d",
   "metadata": {},
   "outputs": [],
   "source": [
    "#=================================================-\n",
    "#### Slide 19: Look-up dataframe information  ####\n",
    "\n",
    "# Look up the type of object.\n",
    "print(type(average_ooo))  \n",
    "# Look up its shape.\n",
    "print(average_ooo.shape) \n",
    "\n",
    "\n"
   ]
  },
  {
   "cell_type": "code",
   "execution_count": null,
   "id": "f76acc6a",
   "metadata": {},
   "outputs": [],
   "source": [
    "#=================================================-\n",
    "#### Slide 21: Dataframe description metrics   ####\n",
    "\n",
    "print(average_ooo.columns)\n",
    "print(average_ooo.info())\n",
    "print(average_ooo.describe())\n",
    "\n",
    "\n"
   ]
  },
  {
   "cell_type": "code",
   "execution_count": null,
   "id": "f638f4e3",
   "metadata": {},
   "outputs": [],
   "source": [
    "#=================================================-\n",
    "#### Slide 22: Extracting a single column   ####\n",
    "\n",
    "print(average_ooo['Timestamp'])\n",
    "\n",
    "\n"
   ]
  },
  {
   "cell_type": "code",
   "execution_count": null,
   "id": "231c2444",
   "metadata": {},
   "outputs": [],
   "source": [
    "#=================================================-\n",
    "#### Slide 23: Extracting multiple columns   ####\n",
    "\n",
    "print(average_ooo[['Timestamp', 'OOO']])\n",
    "\n",
    "\n"
   ]
  },
  {
   "cell_type": "code",
   "execution_count": null,
   "id": "f21d3877",
   "metadata": {},
   "outputs": [],
   "source": [
    "#=================================================-\n",
    "#### Slide 24: Extracting a single row  ####\n",
    "\n",
    "june_ooo = average_ooo.iloc[5, :]\n",
    "print(june_ooo)\n",
    "\n",
    "june_ooo = average_ooo.iloc[5] #<- equivalent without the colon\n",
    "print(june_ooo)\n",
    "\n",
    "\n"
   ]
  },
  {
   "cell_type": "code",
   "execution_count": null,
   "id": "57bdb6dc",
   "metadata": {},
   "outputs": [],
   "source": [
    "#=================================================-\n",
    "#### Slide 26: Index for our dataset  ####\n",
    "\n",
    "# Let's use the `Timestamp` column as our new index.\n",
    "average_ooo = average_ooo.set_index('Timestamp')\n",
    "print(average_ooo)\n",
    "\n",
    "\n"
   ]
  },
  {
   "cell_type": "code",
   "execution_count": null,
   "id": "c2715318",
   "metadata": {},
   "outputs": [],
   "source": [
    "#=================================================-\n",
    "#### Slide 27: Looking up by the new index  ####\n",
    "\n",
    "print(average_ooo.index)\n",
    "# Look up a specific row by index.\n",
    "print(average_ooo.loc['2017-02-28'])\n",
    "\n",
    "\n"
   ]
  },
  {
   "cell_type": "code",
   "execution_count": null,
   "id": "fa09d6cd",
   "metadata": {},
   "outputs": [],
   "source": [
    "#=================================================-\n",
    "#### Slide 28: Loc vs. iloc  ####\n",
    "\n",
    "print(average_ooo.iloc[1])\n",
    "\n",
    "\n"
   ]
  },
  {
   "cell_type": "code",
   "execution_count": null,
   "id": "97840ccb",
   "metadata": {},
   "outputs": [],
   "source": [
    "#=================================================-\n",
    "#### Slide 29: Reset the index  ####\n",
    "\n",
    "average_ooo = average_ooo.reset_index()\n",
    "print(average_ooo.index)\n",
    "# You can see that now `Timestamp` is once again a column vs. what it looked like when it was an index.\n",
    "print(average_ooo) \n",
    "\n",
    "\n"
   ]
  },
  {
   "cell_type": "code",
   "execution_count": null,
   "id": "9117a044",
   "metadata": {},
   "outputs": [],
   "source": [
    "#=================================================-\n",
    "#### Slide 37: Directory settings  ####\n",
    "\n",
    "# Set `main_dir` to the location of your `skill-soft` folder (for Linux).\n",
    "main_dir = \"/home/[username]/Desktop/skill-soft\"\n",
    "# Set `main_dir` to the location of your `skill-soft` folder (for Mac).\n",
    "main_dir = '/Users/[username]/Desktop/skill-soft'\n",
    "# Set `main_dir` to the location of your `skill-soft` folder (for Windows).\n",
    "main_dir = \"C:\\\\Users\\\\[username]\\\\Desktop\\\\skill-soft\"\n",
    "# Make `data_dir` from the `main_dir` and \n",
    "# remainder of the path to data directory.\n",
    "data_dir = main_dir + \"/data\"\n",
    "\n",
    "# Create a plot directory to save our plots\n",
    "plot_dir = main_dir + \"/plots\"\n",
    "\n",
    "\n",
    "\n"
   ]
  },
  {
   "cell_type": "code",
   "execution_count": null,
   "id": "5c125956",
   "metadata": {},
   "outputs": [],
   "source": [
    "#=================================================-\n",
    "#### Slide 38: Setting working directory  ####\n",
    "\n",
    "# Set working directory.\n",
    "os.chdir(data_dir)\n",
    "# Check working directory.\n",
    "print(os.getcwd())\n",
    "\n",
    "\n"
   ]
  },
  {
   "cell_type": "code",
   "execution_count": null,
   "id": "080cc3d5",
   "metadata": {},
   "outputs": [],
   "source": [
    "#=================================================-\n",
    "#### Slide 39: Read data from csv file  ####\n",
    "\n",
    "household_poverty = pd.read_csv('household_poverty.csv')\n",
    "print(household_poverty.head())\n",
    "\n",
    "\n"
   ]
  }
 ],
 "metadata": {
  "language": "python"
 },
 "nbformat": 4,
 "nbformat_minor": 5
}
