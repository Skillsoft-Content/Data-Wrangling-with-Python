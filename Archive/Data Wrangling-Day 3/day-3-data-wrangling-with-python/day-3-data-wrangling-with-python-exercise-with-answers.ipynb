{
 "cells": [
  {
   "cell_type": "markdown",
   "metadata": {},
   "source": [
    "# Working with data in Python day 3 - Exercises with answers"
   ]
  },
  {
   "cell_type": "markdown",
   "metadata": {},
   "source": [
    "## Exercise 1"
   ]
  },
  {
   "cell_type": "markdown",
   "metadata": {},
   "source": [
    "#### Question 1\n",
    "\n",
    "##### Import `pandas` package as `pd` \n",
    "##### Import `numpy` as `np`\n",
    "##### Create a pandas Series object from a list of groceries below. Assign it to `shopping_series` variable and print it.\n",
    "- milk\n",
    "- eggs\n",
    "- peppers\n",
    "- cheese\n",
    "- tomatoes\n",
    "\n",
    "##### Print out only the values of the Series.\n",
    "\n",
    "#### Answer:"
   ]
  },
  {
   "cell_type": "code",
   "execution_count": 50,
   "metadata": {},
   "outputs": [],
   "source": [
    "import pandas as pd\n",
    "import numpy as np"
   ]
  },
  {
   "cell_type": "code",
   "execution_count": 51,
   "metadata": {},
   "outputs": [
    {
     "name": "stdout",
     "output_type": "stream",
     "text": [
      "0        milk\n",
      "1        eggs\n",
      "2     peppers\n",
      "3      cheese\n",
      "4    tomatoes\n",
      "dtype: object\n"
     ]
    }
   ],
   "source": [
    "# Create pandas series object\n",
    "shopping_series = pd.Series([\"milk\", \"eggs\", \"peppers\", \"cheese\", \"tomatoes\"])\n",
    "print(shopping_series)"
   ]
  },
  {
   "cell_type": "code",
   "execution_count": 52,
   "metadata": {},
   "outputs": [
    {
     "name": "stdout",
     "output_type": "stream",
     "text": [
      "['milk' 'eggs' 'peppers' 'cheese' 'tomatoes']\n"
     ]
    }
   ],
   "source": [
    "# Print out values of series\n",
    "print(shopping_series.values)"
   ]
  },
  {
   "cell_type": "markdown",
   "metadata": {},
   "source": [
    "#### Question 2\n",
    "##### Create a pandas Date Series object starting from `January 1st 2019` and ending with `January 1st 2020` separated by a month. \n",
    "##### Assign the Series to `monthly_series` variable. Print the result.     \n",
    "<br>\n",
    "\n",
    "##### Create another pandas Date Series object starting from `January 1st 2019` and covering 12 periods separated by a month. \n",
    "##### Assign the Series to `monthly_series_by_period` variable. Print the result.\n",
    "##### Are the two Series equivalent?\n",
    "\n",
    "#### Answer:"
   ]
  },
  {
   "cell_type": "code",
   "execution_count": 53,
   "metadata": {},
   "outputs": [
    {
     "name": "stdout",
     "output_type": "stream",
     "text": [
      "DatetimeIndex(['2019-01-31', '2019-02-28', '2019-03-31', '2019-04-30',\n",
      "               '2019-05-31', '2019-06-30', '2019-07-31', '2019-08-31',\n",
      "               '2019-09-30', '2019-10-31', '2019-11-30', '2019-12-31'],\n",
      "              dtype='datetime64[ns]', freq='M')\n"
     ]
    }
   ],
   "source": [
    "monthly_series = pd.date_range(start = '20190101', end = '20200101', freq = 'M')\n",
    "print(monthly_series)"
   ]
  },
  {
   "cell_type": "code",
   "execution_count": 54,
   "metadata": {},
   "outputs": [
    {
     "name": "stdout",
     "output_type": "stream",
     "text": [
      "DatetimeIndex(['2019-01-31', '2019-02-28', '2019-03-31', '2019-04-30',\n",
      "               '2019-05-31', '2019-06-30', '2019-07-31', '2019-08-31',\n",
      "               '2019-09-30', '2019-10-31', '2019-11-30', '2019-12-31'],\n",
      "              dtype='datetime64[ns]', freq='M')\n"
     ]
    }
   ],
   "source": [
    "monthly_series_by_period = pd.date_range(start = '20190101', freq = 'M', periods = 12)\n",
    "print(monthly_series_by_period)"
   ]
  },
  {
   "cell_type": "markdown",
   "metadata": {},
   "source": [
    "Yes, the two series objects are equivalent!"
   ]
  },
  {
   "cell_type": "markdown",
   "metadata": {},
   "source": [
    "#### Question 3\n",
    "##### Create a pandas Date Series object starting from `January 1st 2019` and ending with `January 3rd 2019` separated by an hour. Assign the Series to `hourly_series` variable. \n",
    "##### Print the result.\n",
    "\n",
    "#### Answer:"
   ]
  },
  {
   "cell_type": "code",
   "execution_count": 55,
   "metadata": {},
   "outputs": [],
   "source": [
    "hourly_series = pd.date_range(start='20190101', end='20190103', freq='H')"
   ]
  },
  {
   "cell_type": "code",
   "execution_count": 56,
   "metadata": {},
   "outputs": [
    {
     "name": "stdout",
     "output_type": "stream",
     "text": [
      "DatetimeIndex(['2019-01-01 00:00:00', '2019-01-01 01:00:00',\n",
      "               '2019-01-01 02:00:00', '2019-01-01 03:00:00',\n",
      "               '2019-01-01 04:00:00', '2019-01-01 05:00:00',\n",
      "               '2019-01-01 06:00:00', '2019-01-01 07:00:00',\n",
      "               '2019-01-01 08:00:00', '2019-01-01 09:00:00',\n",
      "               '2019-01-01 10:00:00', '2019-01-01 11:00:00',\n",
      "               '2019-01-01 12:00:00', '2019-01-01 13:00:00',\n",
      "               '2019-01-01 14:00:00', '2019-01-01 15:00:00',\n",
      "               '2019-01-01 16:00:00', '2019-01-01 17:00:00',\n",
      "               '2019-01-01 18:00:00', '2019-01-01 19:00:00',\n",
      "               '2019-01-01 20:00:00', '2019-01-01 21:00:00',\n",
      "               '2019-01-01 22:00:00', '2019-01-01 23:00:00',\n",
      "               '2019-01-02 00:00:00', '2019-01-02 01:00:00',\n",
      "               '2019-01-02 02:00:00', '2019-01-02 03:00:00',\n",
      "               '2019-01-02 04:00:00', '2019-01-02 05:00:00',\n",
      "               '2019-01-02 06:00:00', '2019-01-02 07:00:00',\n",
      "               '2019-01-02 08:00:00', '2019-01-02 09:00:00',\n",
      "               '2019-01-02 10:00:00', '2019-01-02 11:00:00',\n",
      "               '2019-01-02 12:00:00', '2019-01-02 13:00:00',\n",
      "               '2019-01-02 14:00:00', '2019-01-02 15:00:00',\n",
      "               '2019-01-02 16:00:00', '2019-01-02 17:00:00',\n",
      "               '2019-01-02 18:00:00', '2019-01-02 19:00:00',\n",
      "               '2019-01-02 20:00:00', '2019-01-02 21:00:00',\n",
      "               '2019-01-02 22:00:00', '2019-01-02 23:00:00',\n",
      "               '2019-01-03 00:00:00'],\n",
      "              dtype='datetime64[ns]', freq='H')\n"
     ]
    }
   ],
   "source": [
    "print(hourly_series)"
   ]
  },
  {
   "cell_type": "markdown",
   "metadata": {},
   "source": [
    "#### Question 4\n",
    "##### Take `numpy` array `abs_values` created in yesterday's exercises as follows:"
   ]
  },
  {
   "cell_type": "code",
   "execution_count": 57,
   "metadata": {},
   "outputs": [],
   "source": [
    "abs_values = abs(np.array([5, -8, -66, 4]))"
   ]
  },
  {
   "cell_type": "markdown",
   "metadata": {},
   "source": [
    "#### Convert `abs_values` into a pandas Series object. \n",
    "##### Assign it to variable `abs_series`.\n",
    "##### Print the result.\n",
    "##### Then print the results of the following operations:\n",
    "- Get the shape of the Series\n",
    "- Find the mean of the Series\n",
    "- Find the median of the Series\n",
    "- Find the standard deviation of the Series\n",
    "- Get unique values in the Series\n",
    "- Get the number of unique values in the Series\n",
    "- Get counts of unique values in the Series\n",
    "\n",
    "\n",
    "#### Answer:"
   ]
  },
  {
   "cell_type": "code",
   "execution_count": 58,
   "metadata": {},
   "outputs": [
    {
     "name": "stdout",
     "output_type": "stream",
     "text": [
      "0     5\n",
      "1     8\n",
      "2    66\n",
      "3     4\n",
      "dtype: int64\n"
     ]
    }
   ],
   "source": [
    "abs_series = pd.Series(abs_values)\n",
    "print(abs_series)"
   ]
  },
  {
   "cell_type": "code",
   "execution_count": 59,
   "metadata": {},
   "outputs": [
    {
     "name": "stdout",
     "output_type": "stream",
     "text": [
      "(4,)\n"
     ]
    }
   ],
   "source": [
    "print(abs_series.shape)"
   ]
  },
  {
   "cell_type": "code",
   "execution_count": 60,
   "metadata": {},
   "outputs": [
    {
     "name": "stdout",
     "output_type": "stream",
     "text": [
      "20.75\n"
     ]
    }
   ],
   "source": [
    "print(abs_series.mean())"
   ]
  },
  {
   "cell_type": "code",
   "execution_count": 61,
   "metadata": {},
   "outputs": [
    {
     "name": "stdout",
     "output_type": "stream",
     "text": [
      "6.5\n"
     ]
    }
   ],
   "source": [
    "print(abs_series.median())"
   ]
  },
  {
   "cell_type": "code",
   "execution_count": 62,
   "metadata": {},
   "outputs": [
    {
     "name": "stdout",
     "output_type": "stream",
     "text": [
      "30.21451086260816\n"
     ]
    }
   ],
   "source": [
    "print(abs_series.std())"
   ]
  },
  {
   "cell_type": "code",
   "execution_count": 63,
   "metadata": {},
   "outputs": [
    {
     "name": "stdout",
     "output_type": "stream",
     "text": [
      "[ 5  8 66  4]\n"
     ]
    }
   ],
   "source": [
    "print(abs_series.unique())"
   ]
  },
  {
   "cell_type": "code",
   "execution_count": 64,
   "metadata": {},
   "outputs": [
    {
     "name": "stdout",
     "output_type": "stream",
     "text": [
      "4\n"
     ]
    }
   ],
   "source": [
    "print(abs_series.nunique())"
   ]
  },
  {
   "cell_type": "code",
   "execution_count": 65,
   "metadata": {},
   "outputs": [
    {
     "name": "stdout",
     "output_type": "stream",
     "text": [
      "5     1\n",
      "4     1\n",
      "66    1\n",
      "8     1\n",
      "dtype: int64\n"
     ]
    }
   ],
   "source": [
    "print(abs_series.value_counts())"
   ]
  },
  {
   "cell_type": "markdown",
   "metadata": {},
   "source": [
    "#### Question 5 \n",
    "\n",
    "##### For the same series `abs_series`, print out the results of the following operations:\n",
    "\n",
    "- Find the position of the minimum value in the Series\n",
    "- Find the position of the maximum value in the Series\n",
    "- Rank items in the Series in descending order\n",
    "- Sort values in the Series\n",
    "- Find sum of the Series\n",
    "- Find cumulative sum of the Series\n",
    "\n",
    "\n",
    "#### Answer:"
   ]
  },
  {
   "cell_type": "code",
   "execution_count": 66,
   "metadata": {},
   "outputs": [
    {
     "name": "stdout",
     "output_type": "stream",
     "text": [
      "3\n"
     ]
    }
   ],
   "source": [
    "print(abs_series.idxmin()) "
   ]
  },
  {
   "cell_type": "code",
   "execution_count": 67,
   "metadata": {},
   "outputs": [
    {
     "name": "stdout",
     "output_type": "stream",
     "text": [
      "2\n"
     ]
    }
   ],
   "source": [
    "print(abs_series.idxmax())"
   ]
  },
  {
   "cell_type": "code",
   "execution_count": 68,
   "metadata": {},
   "outputs": [
    {
     "name": "stdout",
     "output_type": "stream",
     "text": [
      "0    3.0\n",
      "1    2.0\n",
      "2    1.0\n",
      "3    4.0\n",
      "dtype: float64\n"
     ]
    }
   ],
   "source": [
    "print(abs_series.rank(ascending = False))"
   ]
  },
  {
   "cell_type": "code",
   "execution_count": 69,
   "metadata": {},
   "outputs": [
    {
     "name": "stdout",
     "output_type": "stream",
     "text": [
      "3     4\n",
      "0     5\n",
      "1     8\n",
      "2    66\n",
      "dtype: int64\n"
     ]
    }
   ],
   "source": [
    "print(abs_series.sort_values())"
   ]
  },
  {
   "cell_type": "code",
   "execution_count": 70,
   "metadata": {},
   "outputs": [
    {
     "name": "stdout",
     "output_type": "stream",
     "text": [
      "83\n"
     ]
    }
   ],
   "source": [
    "print(abs_series.sum())"
   ]
  },
  {
   "cell_type": "code",
   "execution_count": 71,
   "metadata": {},
   "outputs": [
    {
     "name": "stdout",
     "output_type": "stream",
     "text": [
      "0     5\n",
      "1    13\n",
      "2    79\n",
      "3    83\n",
      "dtype: int64\n"
     ]
    }
   ],
   "source": [
    "print(abs_series.cumsum())"
   ]
  },
  {
   "cell_type": "markdown",
   "metadata": {},
   "source": [
    "## Exercise 2"
   ]
  },
  {
   "cell_type": "markdown",
   "metadata": {},
   "source": [
    "#### Question 1\n",
    "\n",
    "##### Use the `shopping_series` series created in Exercise 1.\n",
    "##### Create a Series object called `prices` that contains the following values: [2.5, 3.99, 1.95, 5.99, 1.29].\n",
    "##### Create a Series object called `num_items` that contains the following values: [1, 1, 2, 1, 3].\n",
    "##### Combine the three Series objects described above into a single DataFrame called `shopping_cart` naming the columns like so:\n",
    "- `item_name`\n",
    "- `item_price`\n",
    "- `item_quantity`\n",
    "\n",
    "##### Print the first few entries (i.e. the `head` of the DataFrame)."
   ]
  },
  {
   "cell_type": "markdown",
   "metadata": {},
   "source": [
    "#### Answer:"
   ]
  },
  {
   "cell_type": "code",
   "execution_count": 72,
   "metadata": {},
   "outputs": [],
   "source": [
    "prices = pd.Series([2.5, 3.99, 1.95, 5.99, 1.29])\n",
    "num_items = pd.Series([1, 1, 2, 1, 3])"
   ]
  },
  {
   "cell_type": "code",
   "execution_count": 73,
   "metadata": {},
   "outputs": [
    {
     "name": "stdout",
     "output_type": "stream",
     "text": [
      "  item_name  item_price  item_quantity\n",
      "0      milk        2.50              1\n",
      "1      eggs        3.99              1\n",
      "2   peppers        1.95              2\n",
      "3    cheese        5.99              1\n",
      "4  tomatoes        1.29              3\n"
     ]
    }
   ],
   "source": [
    "shopping_cart = pd.DataFrame({'item_name': shopping_series, 'item_price': prices, 'item_quantity': num_items})\n",
    "print(shopping_cart.head())"
   ]
  },
  {
   "cell_type": "markdown",
   "metadata": {},
   "source": [
    "#### Question 2\n",
    "##### Check the following characteristics of the `shopping_cart` object:\n",
    "- Type\n",
    "- Shape\n",
    "- Show columns of the DataFrame\n",
    "- Show information of the DataFrame\n",
    "- Describe the DataFrame\n",
    "\n",
    "##### How many columns are described in the last output? Why do you think that's the case?\n",
    "##### What is the 75th percentile of the column `item_price`?\n",
    "##### What is the standard deviation of the column `item_quantity`?"
   ]
  },
  {
   "cell_type": "markdown",
   "metadata": {},
   "source": [
    "#### Answer:"
   ]
  },
  {
   "cell_type": "code",
   "execution_count": 74,
   "metadata": {},
   "outputs": [
    {
     "name": "stdout",
     "output_type": "stream",
     "text": [
      "<class 'pandas.core.frame.DataFrame'>\n"
     ]
    }
   ],
   "source": [
    "print(type(shopping_cart))"
   ]
  },
  {
   "cell_type": "code",
   "execution_count": 75,
   "metadata": {},
   "outputs": [
    {
     "name": "stdout",
     "output_type": "stream",
     "text": [
      "(5, 3)\n"
     ]
    }
   ],
   "source": [
    "print(shopping_cart.shape)"
   ]
  },
  {
   "cell_type": "code",
   "execution_count": 77,
   "metadata": {},
   "outputs": [
    {
     "name": "stdout",
     "output_type": "stream",
     "text": [
      "Index(['item_name', 'item_price', 'item_quantity'], dtype='object')\n"
     ]
    }
   ],
   "source": [
    "print(shopping_cart.columns)"
   ]
  },
  {
   "cell_type": "code",
   "execution_count": 78,
   "metadata": {},
   "outputs": [
    {
     "name": "stdout",
     "output_type": "stream",
     "text": [
      "<class 'pandas.core.frame.DataFrame'>\n",
      "RangeIndex: 5 entries, 0 to 4\n",
      "Data columns (total 3 columns):\n",
      " #   Column         Non-Null Count  Dtype  \n",
      "---  ------         --------------  -----  \n",
      " 0   item_name      5 non-null      object \n",
      " 1   item_price     5 non-null      float64\n",
      " 2   item_quantity  5 non-null      int64  \n",
      "dtypes: float64(1), int64(1), object(1)\n",
      "memory usage: 248.0+ bytes\n",
      "None\n"
     ]
    }
   ],
   "source": [
    "print(shopping_cart.info())"
   ]
  },
  {
   "cell_type": "code",
   "execution_count": 79,
   "metadata": {},
   "outputs": [
    {
     "name": "stdout",
     "output_type": "stream",
     "text": [
      "       item_price  item_quantity\n",
      "count     5.00000       5.000000\n",
      "mean      3.14400       1.600000\n",
      "std       1.87704       0.894427\n",
      "min       1.29000       1.000000\n",
      "25%       1.95000       1.000000\n",
      "50%       2.50000       1.000000\n",
      "75%       3.99000       2.000000\n",
      "max       5.99000       3.000000\n"
     ]
    }
   ],
   "source": [
    "print(shopping_cart.describe())"
   ]
  },
  {
   "cell_type": "markdown",
   "metadata": {},
   "source": [
    "Only `2` columns are described in the `describe()` output since these are the only 2 numerical columns."
   ]
  },
  {
   "cell_type": "markdown",
   "metadata": {},
   "source": [
    "The 75th percentile of the column `item_price` is `3.99`"
   ]
  },
  {
   "cell_type": "markdown",
   "metadata": {},
   "source": [
    "The standard deviation of the column `item_quantity` is 0.894427"
   ]
  },
  {
   "cell_type": "markdown",
   "metadata": {},
   "source": [
    "#### Question 3\n",
    "##### Perform the following on `shopping_cart` DataFrame:\n",
    "- Extract column `item_price`\n",
    "- Extract columns `item_name` and`item_quantity`\n",
    "- Extract the 3rd row\n"
   ]
  },
  {
   "cell_type": "markdown",
   "metadata": {},
   "source": [
    "#### Answer:"
   ]
  },
  {
   "cell_type": "code",
   "execution_count": 80,
   "metadata": {},
   "outputs": [
    {
     "name": "stdout",
     "output_type": "stream",
     "text": [
      "0    2.50\n",
      "1    3.99\n",
      "2    1.95\n",
      "3    5.99\n",
      "4    1.29\n",
      "Name: item_price, dtype: float64\n"
     ]
    }
   ],
   "source": [
    "print(shopping_cart['item_price'])"
   ]
  },
  {
   "cell_type": "code",
   "execution_count": 81,
   "metadata": {},
   "outputs": [
    {
     "name": "stdout",
     "output_type": "stream",
     "text": [
      "  item_name  item_quantity\n",
      "0      milk              1\n",
      "1      eggs              1\n",
      "2   peppers              2\n",
      "3    cheese              1\n",
      "4  tomatoes              3\n"
     ]
    }
   ],
   "source": [
    "print(shopping_cart[['item_name', 'item_quantity']])"
   ]
  },
  {
   "cell_type": "code",
   "execution_count": 82,
   "metadata": {},
   "outputs": [
    {
     "name": "stdout",
     "output_type": "stream",
     "text": [
      "item_name        peppers\n",
      "item_price          1.95\n",
      "item_quantity          2\n",
      "Name: 2, dtype: object\n"
     ]
    }
   ],
   "source": [
    "print(shopping_cart.iloc[2])"
   ]
  },
  {
   "cell_type": "markdown",
   "metadata": {},
   "source": [
    "#### Question 4\n",
    "##### Set index of `shopping_cart` DataFrame to `item_name`. Print the updated DataFrame.\n",
    "##### Print only the index of the `shopping_cart` DataFrame.\n",
    "##### Look up the row of the `shopping_cart` by using index value 'eggs'.\n",
    "##### Reset index of the `shopping_cart`. Print the updated DataFrame."
   ]
  },
  {
   "cell_type": "markdown",
   "metadata": {},
   "source": [
    "#### Answer:"
   ]
  },
  {
   "cell_type": "code",
   "execution_count": 83,
   "metadata": {},
   "outputs": [
    {
     "name": "stdout",
     "output_type": "stream",
     "text": [
      "           item_price  item_quantity\n",
      "item_name                           \n",
      "milk             2.50              1\n",
      "eggs             3.99              1\n",
      "peppers          1.95              2\n",
      "cheese           5.99              1\n",
      "tomatoes         1.29              3\n"
     ]
    }
   ],
   "source": [
    "shopping_cart = shopping_cart.set_index('item_name')\n",
    "print(shopping_cart)"
   ]
  },
  {
   "cell_type": "code",
   "execution_count": 84,
   "metadata": {},
   "outputs": [
    {
     "name": "stdout",
     "output_type": "stream",
     "text": [
      "Index(['milk', 'eggs', 'peppers', 'cheese', 'tomatoes'], dtype='object', name='item_name')\n"
     ]
    }
   ],
   "source": [
    "print(shopping_cart.index)"
   ]
  },
  {
   "cell_type": "code",
   "execution_count": 85,
   "metadata": {},
   "outputs": [
    {
     "name": "stdout",
     "output_type": "stream",
     "text": [
      "item_price       3.99\n",
      "item_quantity    1.00\n",
      "Name: eggs, dtype: float64\n"
     ]
    }
   ],
   "source": [
    "print(shopping_cart.loc['eggs'])"
   ]
  },
  {
   "cell_type": "code",
   "execution_count": 86,
   "metadata": {},
   "outputs": [
    {
     "name": "stdout",
     "output_type": "stream",
     "text": [
      "  item_name  item_price  item_quantity\n",
      "0      milk        2.50              1\n",
      "1      eggs        3.99              1\n",
      "2   peppers        1.95              2\n",
      "3    cheese        5.99              1\n",
      "4  tomatoes        1.29              3\n"
     ]
    }
   ],
   "source": [
    "shopping_cart = shopping_cart.reset_index()\n",
    "print(shopping_cart)"
   ]
  },
  {
   "cell_type": "markdown",
   "metadata": {},
   "source": [
    "#### Question 5\n",
    "\n",
    "##### Import the package `os`\n",
    "##### Set the working directory to data directory.\n",
    "##### Print the working directory."
   ]
  },
  {
   "cell_type": "markdown",
   "metadata": {},
   "source": [
    "#### Answer:"
   ]
  },
  {
   "cell_type": "code",
   "execution_count": 87,
   "metadata": {},
   "outputs": [],
   "source": [
    "import os"
   ]
  },
  {
   "cell_type": "code",
   "execution_count": null,
   "metadata": {},
   "outputs": [],
   "source": [
    "# Set `main_dir` to the location of your `skill-soft` folder (for Linux).\n",
    "main_dir = \"/home/[username]/Desktop/skill-soft\"\n",
    "# Windows only.\n",
    "main_dir = \"C:/Users/[user_name]/Desktop/skill-soft\"\n",
    "# Mac only.\n",
    "main_dir = \"/Users/[username]/Desktop/skill-soft\"\n",
    "\n",
    "data_dir = main_dir + \"/data/\""
   ]
  },
  {
   "cell_type": "code",
   "execution_count": 89,
   "metadata": {},
   "outputs": [],
   "source": [
    "# Set working directory.\n",
    "os.chdir(data_dir)"
   ]
  },
  {
   "cell_type": "code",
   "execution_count": null,
   "metadata": {},
   "outputs": [],
   "source": [
    "# Check working directory.\n",
    "print(os.getcwd())"
   ]
  },
  {
   "cell_type": "markdown",
   "metadata": {},
   "source": [
    "#### Question 6\n",
    "##### Read in 'TB_data.csv' into a variable called `tb_data` using pandas.\n",
    "##### Print the first 20 rows of the DataFrame."
   ]
  },
  {
   "cell_type": "markdown",
   "metadata": {},
   "source": [
    "#### Answer:"
   ]
  },
  {
   "cell_type": "code",
   "execution_count": 91,
   "metadata": {},
   "outputs": [
    {
     "name": "stdout",
     "output_type": "stream",
     "text": [
      "        country iso2 iso3  iso_numeric  year measure unit age_group sex  \\\n",
      "0   Afghanistan   AF  AFG            4  2017     inc  num      0-14   a   \n",
      "1   Afghanistan   AF  AFG            4  2017     inc  num      0-14   f   \n",
      "2   Afghanistan   AF  AFG            4  2017     inc  num      0-14   m   \n",
      "3   Afghanistan   AF  AFG            4  2017     inc  num       0-4   f   \n",
      "4   Afghanistan   AF  AFG            4  2017     inc  num       0-4   m   \n",
      "5   Afghanistan   AF  AFG            4  2017     inc  num     15-24   f   \n",
      "6   Afghanistan   AF  AFG            4  2017     inc  num     15-24   m   \n",
      "7   Afghanistan   AF  AFG            4  2017     inc  num    15plus   a   \n",
      "8   Afghanistan   AF  AFG            4  2017     inc  num    15plus   f   \n",
      "9   Afghanistan   AF  AFG            4  2017     inc  num    15plus   m   \n",
      "10  Afghanistan   AF  AFG            4  2017     inc  num     25-34   f   \n",
      "11  Afghanistan   AF  AFG            4  2017     inc  num     25-34   m   \n",
      "12  Afghanistan   AF  AFG            4  2017     inc  num     35-44   f   \n",
      "13  Afghanistan   AF  AFG            4  2017     inc  num     35-44   m   \n",
      "14  Afghanistan   AF  AFG            4  2017     inc  num     45-54   f   \n",
      "15  Afghanistan   AF  AFG            4  2017     inc  num     45-54   m   \n",
      "16  Afghanistan   AF  AFG            4  2017     inc  num      5-14   f   \n",
      "17  Afghanistan   AF  AFG            4  2017     inc  num      5-14   m   \n",
      "18  Afghanistan   AF  AFG            4  2017     inc  num     55-64   f   \n",
      "19  Afghanistan   AF  AFG            4  2017     inc  num     55-64   m   \n",
      "\n",
      "     best       lo       hi  \n",
      "0    7400   6500.0   8400.0  \n",
      "1    3500   3200.0   3900.0  \n",
      "2    3900   3500.0   4300.0  \n",
      "3    1800   1700.0   1900.0  \n",
      "4    2200   2000.0   2300.0  \n",
      "5    7100   6200.0   8000.0  \n",
      "6    6000   5300.0   6700.0  \n",
      "7   60000  38000.0  82000.0  \n",
      "8   31000  23000.0  39000.0  \n",
      "9   29000  22000.0  36000.0  \n",
      "10   6300   5500.0   7000.0  \n",
      "11   5900   5200.0   6600.0  \n",
      "12   5400   4800.0   6000.0  \n",
      "13   5200   4600.0   5700.0  \n",
      "14   4600   4100.0   5000.0  \n",
      "15   4100   3700.0   4500.0  \n",
      "16   1800   1700.0   1900.0  \n",
      "17   1700   1600.0   1800.0  \n",
      "18   3900   3600.0   4300.0  \n",
      "19   3700   3400.0   4100.0  \n"
     ]
    }
   ],
   "source": [
    "tb_data = pd.read_csv('TB_data.csv')\n",
    "print(tb_data.head(20))"
   ]
  }
 ],
 "metadata": {
  "kernelspec": {
   "display_name": "Python 3",
   "language": "python",
   "name": "python3"
  },
  "language_info": {
   "codemirror_mode": {
    "name": "ipython",
    "version": 3
   },
   "file_extension": ".py",
   "mimetype": "text/x-python",
   "name": "python",
   "nbconvert_exporter": "python",
   "pygments_lexer": "ipython3",
   "version": "3.7.7"
  }
 },
 "nbformat": 4,
 "nbformat_minor": 2
}
