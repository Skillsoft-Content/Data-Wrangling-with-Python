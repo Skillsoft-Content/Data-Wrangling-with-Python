{
 "cells": [
  {
   "cell_type": "markdown",
   "metadata": {},
   "source": [
    "# Day 4 Data wrangling with Python - Exercises"
   ]
  },
  {
   "cell_type": "markdown",
   "metadata": {},
   "source": [
    "## Exercise 1"
   ]
  },
  {
   "cell_type": "markdown",
   "metadata": {},
   "source": [
    "#### Question 1\n",
    "##### Import `pandas` as `pd` and `os` packages and numpy as `np`\n",
    "##### Create a pandas Series object from a list of groceries below. Assign it to `shopping_series` variable and print it.\n",
    "- milk\n",
    "- eggs\n",
    "- peppers\n",
    "- cheese\n",
    "- tomatoes\n",
    "\n",
    "##### Create a Series object called `prices` that contains the following values: [2.5, 3.99, 1.95, 5.99, 1.29].\n",
    "##### Create a Series object called `num_items` that contains the following values: [1, 1, 2, 1, 3].\n",
    "##### Combine the three Series objects described above into a single DataFrame called `shopping_cart` naming the columns like so:\n",
    "- `item_name`\n",
    "- `item_price`\n",
    "- `item_quantity`\n",
    "\n",
    "##### Print the first few entries (i.e. the `head` of the DataFrame)."
   ]
  },
  {
   "cell_type": "markdown",
   "metadata": {},
   "source": [
    "#### Answer:"
   ]
  },
  {
   "cell_type": "markdown",
   "metadata": {},
   "source": [
    "#### Question 2\n",
    "##### Check the following characteristics of the `shopping_cart` object:\n",
    "- Type\n",
    "- Shape\n",
    "- Show columns of the DataFrame\n",
    "- Show information of the DataFrame\n",
    "- Describe the DataFrame\n",
    "\n",
    "##### How many columns are described in the last output? Why do you think that's the case?\n",
    "##### What is the 75th percentile of the column `item_price`?\n",
    "##### What is the standard deviation of the column `item_quantity`?"
   ]
  },
  {
   "cell_type": "markdown",
   "metadata": {},
   "source": [
    "#### Answer:"
   ]
  },
  {
   "cell_type": "markdown",
   "metadata": {},
   "source": [
    "#### Question 3\n",
    "##### Perform the following on `shopping_cart` DataFrame:\n",
    "- Extract column `item_price`\n",
    "- Extract columns `item_name` and`item_quantity`\n",
    "- Extract the 3rd row\n"
   ]
  },
  {
   "cell_type": "markdown",
   "metadata": {},
   "source": [
    "#### Answer:"
   ]
  },
  {
   "cell_type": "markdown",
   "metadata": {},
   "source": [
    "#### Question 4\n",
    "##### Set index of `shopping_cart` DataFrame to `item_name`. Print the updated DataFrame.\n",
    "##### Print only the index of the `shopping_cart` DataFrame.\n",
    "##### Look up the row of the `shopping_cart` by using index value 'eggs'.\n",
    "##### Reset index of the `shopping_cart`. Print the updated DataFrame."
   ]
  },
  {
   "cell_type": "markdown",
   "metadata": {},
   "source": [
    "#### Answer:"
   ]
  },
  {
   "cell_type": "markdown",
   "metadata": {},
   "source": [
    "#### Question 5\n",
    "##### Set the working directory to data directory.\n",
    "##### Print the working directory."
   ]
  },
  {
   "cell_type": "markdown",
   "metadata": {},
   "source": [
    "#### Answer:"
   ]
  },
  {
   "cell_type": "markdown",
   "metadata": {},
   "source": [
    "#### Question 6\n",
    "##### Read in 'TB_data.csv' into a variable called `tb_data` using pandas.\n",
    "##### Print the first 20 rows of the DataFrame."
   ]
  },
  {
   "cell_type": "markdown",
   "metadata": {},
   "source": [
    "#### Answer:"
   ]
  },
  {
   "cell_type": "markdown",
   "metadata": {},
   "source": [
    "#### Question 7\n",
    "##### Perform the following actions on `tb_data` object:\n",
    "- Check the type of the object\n",
    "- Get the shape of the object and save it to 2 variables and print both:\n",
    "    - `nrows`\n",
    "    - `ncols`"
   ]
  },
  {
   "cell_type": "markdown",
   "metadata": {},
   "source": [
    "#### Answer:"
   ]
  },
  {
   "cell_type": "markdown",
   "metadata": {},
   "source": [
    "#### Question 8\n",
    "##### Use sample function to:\n",
    "    - print 3 random rows in tb_data\n",
    "    - print 0.1% random rows in tb_data"
   ]
  },
  {
   "cell_type": "markdown",
   "metadata": {},
   "source": [
    "#### Answer:"
   ]
  },
  {
   "cell_type": "markdown",
   "metadata": {},
   "source": [
    "#### Question 9\n",
    "##### Inspect tb_data with the following information:\n",
    "    - columns\n",
    "    - data types\n",
    "    - info\n",
    "    - statical summary (describe)"
   ]
  },
  {
   "cell_type": "markdown",
   "metadata": {},
   "source": [
    "#### Answer:"
   ]
  },
  {
   "cell_type": "markdown",
   "metadata": {},
   "source": [
    "## Exercise 2"
   ]
  },
  {
   "cell_type": "markdown",
   "metadata": {},
   "source": [
    "#### Question 1\n",
    "##### Split the data to be grouped by age group. \n",
    "##### Group by the column `age_group` and assign it to a dataframe named `grouped_df`."
   ]
  },
  {
   "cell_type": "markdown",
   "metadata": {},
   "source": [
    "#### Answer:"
   ]
  },
  {
   "cell_type": "markdown",
   "metadata": {},
   "source": [
    "#### Question 2\n",
    "##### Use the summary functions to get the mean number of `best` for all the age groups you just grouped in `grouped_df`.\n",
    "##### Assign the output to a dataframe called `age_best` and print that dataframe to the console."
   ]
  },
  {
   "cell_type": "markdown",
   "metadata": {},
   "source": [
    "#### Answer:"
   ]
  },
  {
   "cell_type": "markdown",
   "metadata": {},
   "source": [
    "#### Question 3\n",
    "##### Use the summary functions to get the max number of `lo` for all the age groups grouped by the column `age_group`.\n",
    "##### Assign the output to a dataframe called `age_low` and print that dataframe to the console.\n",
    "##### Make sure all values are rounded to the next integer."
   ]
  },
  {
   "cell_type": "markdown",
   "metadata": {},
   "source": [
    "#### Answer:"
   ]
  },
  {
   "cell_type": "markdown",
   "metadata": {},
   "source": [
    "#### Question 4\n",
    "##### Sort the values of `age_lo` in descending order"
   ]
  },
  {
   "cell_type": "markdown",
   "metadata": {},
   "source": [
    "#### Answer:"
   ]
  },
  {
   "cell_type": "markdown",
   "metadata": {},
   "source": [
    "#### Question 5\n",
    "##### Filter the values of `age_best` for values of `best` that are above 10000.\n",
    "\n"
   ]
  },
  {
   "cell_type": "markdown",
   "metadata": {},
   "source": [
    "#### Answer:"
   ]
  },
  {
   "cell_type": "markdown",
   "metadata": {},
   "source": [
    "#### Question 6\n",
    "##### In `age_best`, create a new boolean column (containing values True or False) called `high` \n",
    "##### that indicates whether a row has a value for `best` that is higher than 10000.\n",
    "\n",
    "\n"
   ]
  },
  {
   "cell_type": "markdown",
   "metadata": {},
   "source": [
    "#### Answer:"
   ]
  },
  {
   "cell_type": "markdown",
   "metadata": {},
   "source": [
    "## Exercise 3"
   ]
  },
  {
   "cell_type": "markdown",
   "metadata": {},
   "source": [
    "#### Question 1\n",
    "##### Subset `tb_data`, so that the new dataframe only contains the columns `best`, `lo`, and `hi`\n",
    "##### Call the new dataframe `tb_subset`"
   ]
  },
  {
   "cell_type": "markdown",
   "metadata": {},
   "source": [
    "#### Answer:"
   ]
  },
  {
   "cell_type": "markdown",
   "metadata": {},
   "source": [
    "#### Question 2\n",
    "##### Check the count of missing values NAs by columns."
   ]
  },
  {
   "cell_type": "markdown",
   "metadata": {},
   "source": [
    "#### Answer:"
   ]
  },
  {
   "cell_type": "markdown",
   "metadata": {},
   "source": [
    "#### Question 3\n",
    "##### We just saw that there are NAs in our data.\n",
    "##### Impute missing values using the mean of the column."
   ]
  },
  {
   "cell_type": "markdown",
   "metadata": {},
   "source": [
    "#### Answer:"
   ]
  },
  {
   "cell_type": "markdown",
   "metadata": {},
   "source": [
    "#### Question 4\n",
    "##### Let us convert `best` to a categorical variable with two levels.\n",
    "##### Convert values in `best` below 5000 to `low` and above or equal to 5000 to `high`."
   ]
  },
  {
   "cell_type": "markdown",
   "metadata": {},
   "source": [
    "#### Answer:"
   ]
  },
  {
   "cell_type": "markdown",
   "metadata": {},
   "source": [
    "#### Question 5\n",
    "##### Check the type of the variable `best` and convert it to boolean, so that it has the value `True` for `high` and `False` for `low`"
   ]
  },
  {
   "cell_type": "markdown",
   "metadata": {},
   "source": [
    "#### Answer:"
   ]
  },
  {
   "cell_type": "markdown",
   "metadata": {},
   "source": [
    "#### Question 6\n",
    "##### Group `tb_subset` by variable `best`. Save as `tb_grouped`.\n",
    "##### Convert `tb_grouped` to a wide dataframe by taking mean of `tb_grouped` and specifying the variables `lo` and `hi`.\n",
    "##### Print results.\n",
    "##### Reset the index of `tb_grouped_mean` and print results again."
   ]
  },
  {
   "cell_type": "markdown",
   "metadata": {},
   "source": [
    "#### Answer:"
   ]
  },
  {
   "cell_type": "markdown",
   "metadata": {},
   "source": [
    "#### Question 7\n",
    "##### Change the dataframe `tb_grouped_mean` to be a long dataframe.\n",
    "##### The resulting column names should be `best`, `type` (contains the column names of the wide dataframe), and `value` (containts the values from the wide dataframe).\n",
    "##### Name the resulting dataframe `tb_subset_long`."
   ]
  },
  {
   "cell_type": "markdown",
   "metadata": {},
   "source": [
    "#### Answer:"
   ]
  }
 ],
 "metadata": {
  "kernelspec": {
   "display_name": "Python 3",
   "language": "python",
   "name": "python3"
  },
  "language_info": {
   "codemirror_mode": {
    "name": "ipython",
    "version": 3
   },
   "file_extension": ".py",
   "mimetype": "text/x-python",
   "name": "python",
   "nbconvert_exporter": "python",
   "pygments_lexer": "ipython3",
   "version": "3.7.4"
  }
 },
 "nbformat": 4,
 "nbformat_minor": 2
}
