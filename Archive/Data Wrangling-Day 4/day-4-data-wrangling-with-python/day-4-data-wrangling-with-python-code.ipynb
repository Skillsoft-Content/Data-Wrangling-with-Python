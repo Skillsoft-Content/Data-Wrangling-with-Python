{
 "cells": [
  {
   "cell_type": "code",
   "execution_count": null,
   "id": "25442c39",
   "metadata": {},
   "outputs": [],
   "source": [
    "#######################################################\n",
    "#######################################################\n",
    "############    COPYRIGHT - DATA SOCIETY   ############\n",
    "#######################################################\n",
    "#######################################################\n",
    "\n",
    "## DAY 4 DATA WRANGLING WITH PYTHON/DAY 4 DATA WRANGLING WITH PYTHON ##\n",
    "\n",
    "## NOTE: To run individual pieces of code, select the line of code and\n",
    "##       press ctrl + enter for PCs or command + enter for Macs\n",
    "\n",
    "\n"
   ]
  },
  {
   "cell_type": "code",
   "execution_count": null,
   "id": "40be9d63",
   "metadata": {},
   "outputs": [],
   "source": [
    "#=================================================-\n",
    "#### Slide 4: Import Pandas and os  ####\n",
    "\n",
    "import pandas as pd\n",
    "import numpy as np\n",
    "import os\n",
    "\n",
    "\n"
   ]
  },
  {
   "cell_type": "code",
   "execution_count": null,
   "id": "84fd43e9",
   "metadata": {},
   "outputs": [],
   "source": [
    "#=================================================-\n",
    "#### Slide 5: Directory settings  ####\n",
    "\n",
    "# Set `main_dir` to the location of your `skill-soft` folder (for Linux).\n",
    "main_dir = \"/home/[username]/Desktop/skill-soft\"\n",
    "# Set `main_dir` to the location of your `skill-soft` folder (for Mac).\n",
    "main_dir = '/Users/[username]/Desktop/skill-soft'\n",
    "# Set `main_dir` to the location of your `skill-soft` folder (for Windows).\n",
    "main_dir = \"C:\\\\Users\\\\[username]\\\\Desktop\\\\skill-soft\"\n",
    "# Make `data_dir` from the `main_dir` and \n",
    "# remainder of the path to data directory.\n",
    "data_dir = main_dir + \"/data\"\n",
    "\n",
    "\n"
   ]
  },
  {
   "cell_type": "code",
   "execution_count": null,
   "id": "382c91a7",
   "metadata": {},
   "outputs": [],
   "source": [
    "#=================================================-\n",
    "#### Slide 6: Setting working directory  ####\n",
    "\n",
    "# Set working directory.\n",
    "os.chdir(data_dir)\n",
    "# Check working directory.\n",
    "print(os.getcwd())\n",
    "\n",
    "\n"
   ]
  },
  {
   "cell_type": "code",
   "execution_count": null,
   "id": "d4f98d56",
   "metadata": {},
   "outputs": [],
   "source": [
    "#=================================================-\n",
    "#### Slide 7: Read data from csv file  ####\n",
    "\n",
    "household_poverty = pd.read_csv('household_poverty.csv')\n",
    "print(household_poverty.head())\n",
    "\n",
    "\n"
   ]
  },
  {
   "cell_type": "code",
   "execution_count": null,
   "id": "27c44a2f",
   "metadata": {},
   "outputs": [],
   "source": [
    "#=================================================-\n",
    "#### Slide 8: Inspect data   ####\n",
    "\n",
    "print(type(household_poverty))  #<- a pandas dataframe!\n",
    "\n",
    "print(len(household_poverty))   #<- returns the number of rows\n",
    "# You can also save the shape of the dataframe into 2 variables \n",
    "# (since the returned is a tuple with 2 values).\n",
    "\n",
    "nrows, ncols = household_poverty.shape\n",
    "print(nrows)\n",
    "print(ncols)\n",
    "\n",
    "\n"
   ]
  },
  {
   "cell_type": "code",
   "execution_count": null,
   "id": "62f53c0c",
   "metadata": {},
   "outputs": [],
   "source": [
    "#=================================================-\n",
    "#### Slide 9: Previewing data - using head method  ####\n",
    "\n",
    "print(household_poverty.head())  #<- pulls the first 5 rows (the default is 5)\n",
    "\n",
    "\n"
   ]
  },
  {
   "cell_type": "code",
   "execution_count": null,
   "id": "fe5607f1",
   "metadata": {},
   "outputs": [],
   "source": [
    "#=================================================-\n",
    "#### Slide 10: Previewing data - using head method  ####\n",
    "\n",
    "print(household_poverty.head(3)) #<- pulls the first 3 rows\n",
    "\n",
    "\n"
   ]
  },
  {
   "cell_type": "code",
   "execution_count": null,
   "id": "ecf558df",
   "metadata": {},
   "outputs": [],
   "source": [
    "#=================================================-\n",
    "#### Slide 11: Previewing data - using sample method  ####\n",
    "\n",
    "print(household_poverty.sample(n = 3))      #<- 3 random rows\n",
    "\n",
    "\n"
   ]
  },
  {
   "cell_type": "code",
   "execution_count": null,
   "id": "e08af3af",
   "metadata": {},
   "outputs": [],
   "source": [
    "#=================================================-\n",
    "#### Slide 12: Previewing data - using sample method  ####\n",
    "\n",
    "print(household_poverty.sample(frac = .02)) #<- a random 2% of the rows\n",
    "\n",
    "\n"
   ]
  },
  {
   "cell_type": "code",
   "execution_count": null,
   "id": "83285098",
   "metadata": {},
   "outputs": [],
   "source": [
    "#=================================================-\n",
    "#### Slide 13: Reviewing household_poverty data  ####\n",
    "\n",
    "print(household_poverty.columns)\n",
    "print(household_poverty.dtypes)\n",
    "\n",
    "\n"
   ]
  },
  {
   "cell_type": "code",
   "execution_count": null,
   "id": "6d02998b",
   "metadata": {},
   "outputs": [],
   "source": [
    "#=================================================-\n",
    "#### Slide 14: Reviewing household_poverty data - info  ####\n",
    "\n",
    "print(household_poverty.info())  \n",
    "\n",
    "\n"
   ]
  },
  {
   "cell_type": "code",
   "execution_count": null,
   "id": "30201cc6",
   "metadata": {},
   "outputs": [],
   "source": [
    "#=================================================-\n",
    "#### Slide 15: Reviewing household_poverty data - describe  ####\n",
    "\n",
    "print(household_poverty.describe())\n",
    "\n",
    "\n"
   ]
  },
  {
   "cell_type": "code",
   "execution_count": null,
   "id": "25824d21",
   "metadata": {},
   "outputs": [],
   "source": [
    "#=================================================-\n",
    "#### Slide 16: Reviewing household_poverty data - index  ####\n",
    "\n",
    "print(household_poverty.index)\n",
    "household_poverty = household_poverty.set_index('hh_ID')\n",
    "print(household_poverty.index)\n",
    "\n",
    "\n"
   ]
  },
  {
   "cell_type": "code",
   "execution_count": null,
   "id": "531dc469",
   "metadata": {},
   "outputs": [],
   "source": [
    "#=================================================-\n",
    "#### Slide 17: Looking up by household ID  ####\n",
    "\n",
    "# Look up a specific row by index.\n",
    "print(household_poverty.loc['21eb7fcc1'])\n",
    "\n",
    "\n"
   ]
  },
  {
   "cell_type": "code",
   "execution_count": null,
   "id": "fb182244",
   "metadata": {},
   "outputs": [],
   "source": [
    "#=================================================-\n",
    "#### Slide 18: Looking up by household ID  ####\n",
    "\n",
    "# Look up a specific row by index.\n",
    "print(household_poverty.iloc[1])\n",
    "\n",
    "\n"
   ]
  },
  {
   "cell_type": "code",
   "execution_count": null,
   "id": "3d33468e",
   "metadata": {},
   "outputs": [],
   "source": [
    "#=================================================-\n",
    "#### Slide 19: Reset index  ####\n",
    "\n",
    "household_poverty = household_poverty.reset_index()\n",
    "\n",
    "\n"
   ]
  },
  {
   "cell_type": "code",
   "execution_count": null,
   "id": "dd184ee2",
   "metadata": {},
   "outputs": [],
   "source": [
    "#=================================================-\n",
    "#### Slide 21: Exercise 1  ####\n",
    "\n",
    "\n",
    "\n",
    "\n"
   ]
  },
  {
   "cell_type": "code",
   "execution_count": null,
   "id": "ddaa7a9e",
   "metadata": {},
   "outputs": [],
   "source": [
    "#=================================================-\n",
    "#### Slide 24: Splitting using groupby()  ####\n",
    "\n",
    "grouped = household_poverty.groupby('rooms')\n",
    "print(grouped.first())\n",
    "\n",
    "\n"
   ]
  },
  {
   "cell_type": "code",
   "execution_count": null,
   "id": "438e784a",
   "metadata": {},
   "outputs": [],
   "source": [
    "#=================================================-\n",
    "#### Slide 26: Groupby() and summary functions  ####\n",
    "\n",
    "# We are counting the number of hh_IDs by number of rooms, and creating a dataframe.\n",
    "hh_ID = grouped.count()[['hh_ID']]\n",
    "print(hh_ID)\n",
    "# This syntax would do the same, but create a series.\n",
    "print(grouped.count().hh_ID)\n",
    "\n",
    "\n"
   ]
  },
  {
   "cell_type": "code",
   "execution_count": null,
   "id": "4df7f664",
   "metadata": {},
   "outputs": [],
   "source": [
    "#=================================================-\n",
    "#### Slide 27: A little more about summarizing - sorting  ####\n",
    "\n",
    "print(hh_ID.sort_values(by = ['hh_ID'], ascending = [False]))\n",
    "\n",
    "\n"
   ]
  },
  {
   "cell_type": "code",
   "execution_count": null,
   "id": "8c6632f0",
   "metadata": {},
   "outputs": [],
   "source": [
    "#=================================================-\n",
    "#### Slide 28: A little more about summarizing - filtering  ####\n",
    "\n",
    "print(hh_ID.query('rooms < 5'))\n",
    "\n",
    "\n"
   ]
  },
  {
   "cell_type": "code",
   "execution_count": null,
   "id": "95bc93da",
   "metadata": {},
   "outputs": [],
   "source": [
    "#=================================================-\n",
    "#### Slide 29: A little more about summarizing - new columns  ####\n",
    "\n",
    "over100_hh = hh_ID['hh_ID'] > 100\n",
    "# Add the new column.\n",
    "hh_ID['over100_hh'] = over100_hh\n",
    "print(hh_ID.head())\n",
    "\n",
    "\n"
   ]
  },
  {
   "cell_type": "code",
   "execution_count": null,
   "id": "a18747f8",
   "metadata": {},
   "outputs": [],
   "source": [
    "#=================================================-\n",
    "#### Slide 31: Exercise 2  ####\n",
    "\n",
    "\n",
    "\n",
    "\n"
   ]
  },
  {
   "cell_type": "code",
   "execution_count": null,
   "id": "6af6e615",
   "metadata": {},
   "outputs": [],
   "source": [
    "#=================================================-\n",
    "#### Slide 34: Load the dataset  ####\n",
    "\n",
    "household_poverty = pd.read_csv(\"costa_rica_poverty.csv\")\n",
    "print(household_poverty.head())\n",
    "\n",
    "\n"
   ]
  },
  {
   "cell_type": "code",
   "execution_count": null,
   "id": "043bd7cb",
   "metadata": {},
   "outputs": [],
   "source": [
    "#=================================================-\n",
    "#### Slide 36: Subsetting data  ####\n",
    "\n",
    "costa_viz = household_poverty[['ppl_total', 'dependency_rate',\n",
    "                               'num_adults', 'rooms', 'age', 'monthly_rent',\n",
    "                               'Target']]\n",
    "print(costa_viz.head())\n",
    "\n",
    "\n"
   ]
  },
  {
   "cell_type": "code",
   "execution_count": null,
   "id": "33464483",
   "metadata": {},
   "outputs": [],
   "source": [
    "#=================================================-\n",
    "#### Slide 37: Data prep: clean NAs  ####\n",
    "\n",
    "print(costa_viz.isnull().sum())\n",
    "\n",
    "\n"
   ]
  },
  {
   "cell_type": "code",
   "execution_count": null,
   "id": "9ac6fbda",
   "metadata": {},
   "outputs": [],
   "source": [
    "#=================================================-\n",
    "#### Slide 38: Data cleaning: NAs  ####\n",
    "\n",
    "# Set the dataframe equal to the imputed dataset.\n",
    "costa_viz = costa_viz.fillna(costa_viz.mean())\n",
    "# Check how many values are null in monthly_rent.\n",
    "print(costa_viz.isnull().sum())\n",
    "\n",
    "\n"
   ]
  },
  {
   "cell_type": "code",
   "execution_count": null,
   "id": "a8befdaa",
   "metadata": {},
   "outputs": [],
   "source": [
    "#=================================================-\n",
    "#### Slide 39: Converting the target variable  ####\n",
    "\n",
    "costa_viz['Target'] = np.where(costa_viz['Target'] <= 3, 'vulnerable', 'non_vulnerable')\n",
    "print(costa_viz['Target'].head())\n",
    "\n",
    "\n"
   ]
  },
  {
   "cell_type": "code",
   "execution_count": null,
   "id": "1637e404",
   "metadata": {},
   "outputs": [],
   "source": [
    "#=================================================-\n",
    "#### Slide 40: Data prep: target  ####\n",
    "\n",
    "print(costa_viz.Target.dtypes)\n",
    "costa_viz[\"Target\"] = np.where(costa_viz[\"Target\"] == \"non_vulnerable\", True, False)\n",
    "\n",
    "# Check class again.\n",
    "print(costa_viz.Target.dtypes)\n",
    "\n",
    "\n"
   ]
  },
  {
   "cell_type": "code",
   "execution_count": null,
   "id": "e1f03b9f",
   "metadata": {},
   "outputs": [],
   "source": [
    "#=================================================-\n",
    "#### Slide 44: Prepare data: group and summarize (cont'd)  ####\n",
    "\n",
    "# Group data by `Target` variable.\n",
    "grouped = costa_viz.groupby('Target')\n",
    "\n",
    "# Compute mean on the listed variables using the grouped data.\n",
    "costa_grouped_mean = grouped.mean()[['ppl_total','dependency_rate','num_adults','rooms','age']]\n",
    "print(costa_grouped_mean)\n",
    "\n",
    "\n"
   ]
  },
  {
   "cell_type": "code",
   "execution_count": null,
   "id": "dbdae049",
   "metadata": {},
   "outputs": [],
   "source": [
    "#=================================================-\n",
    "#### Slide 45: Prepare data: group and summarize (cont'd)  ####\n",
    "\n",
    "# Reset index of the dataset.\n",
    "costa_grouped_mean = costa_grouped_mean.reset_index()\n",
    "print(costa_grouped_mean)\n",
    "\n",
    "\n"
   ]
  },
  {
   "cell_type": "code",
   "execution_count": null,
   "id": "06ef61c5",
   "metadata": {},
   "outputs": [],
   "source": [
    "#=================================================-\n",
    "#### Slide 48: Wide to long format: melt (cont'd)  ####\n",
    "\n",
    "# Melt the wide data into long.\n",
    "costa_grouped_mean_long = pd.melt(costa_grouped_mean,       #<- wide dataset\n",
    "                                  id_vars = ['Target'],     #<- identifying variable\n",
    "                                  var_name = 'metric',      #<- contains col names of wide data\n",
    "                                  value_name = 'mean')      #<- contains values from above columns\n",
    "print(costa_grouped_mean_long)\n",
    "\n",
    "\n",
    "\n"
   ]
  },
  {
   "cell_type": "code",
   "execution_count": null,
   "id": "f305bc9b",
   "metadata": {},
   "outputs": [],
   "source": [
    "#=================================================-\n",
    "#### Slide 50: Long to wide format: pivot (cont'd)  ####\n",
    "\n",
    "# Melt the long data into wide.\n",
    "costa_grouped_mean_wide = costa_grouped_mean_long.pivot(\n",
    "                                                    index = 'Target',   #<- identifying variable\n",
    "                                                    columns = 'metric', #<- col names of wide data\n",
    "                                                    values = 'mean')    #<- values from above columns\n",
    "print(costa_grouped_mean_wide)\n",
    "\n",
    "\n"
   ]
  }
 ],
 "metadata": {
  "language": "python"
 },
 "nbformat": 4,
 "nbformat_minor": 5
}
