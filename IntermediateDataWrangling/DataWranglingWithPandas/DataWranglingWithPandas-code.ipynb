{
 "cells": [
  {
   "cell_type": "code",
   "execution_count": null,
   "id": "952633de",
   "metadata": {},
   "outputs": [],
   "source": [
    "#######################################################\n",
    "#######################################################\n",
    "############    COPYRIGHT - DATA SOCIETY   ############\n",
    "#######################################################\n",
    "#######################################################\n",
    "\n",
    "## DATAWRANGLINGINPYTHON/DATAWRANGLINGWITHPANDAS/DATAWRANGLINGINPYTHON DATAWRANGLINGWITHPANDAS 1 ##\n",
    "\n",
    "## NOTE: To run individual pieces of code, select the line of code and\n",
    "##       press ctrl + enter for PCs or command + enter for Macs\n",
    "\n",
    "\n"
   ]
  },
  {
   "cell_type": "code",
   "execution_count": null,
   "id": "d994b5d0",
   "metadata": {},
   "outputs": [],
   "source": [
    "#=================================================-\n",
    "#### Slide 6: Import pandas and pathlib  ####\n",
    "\n",
    "import numpy as np\n",
    "import pandas as pd\n",
    "from pathlib import Path\n",
    "\n",
    "\n"
   ]
  },
  {
   "cell_type": "code",
   "execution_count": null,
   "id": "069343c7",
   "metadata": {},
   "outputs": [],
   "source": [
    "#=================================================-\n",
    "#### Slide 7: Directory settings  ####\n",
    "\n",
    "# Set 'main_dir' to location of the project folder\n",
    "home_dir = Path(\".\").resolve()\n",
    "main_dir = home_dir.parent.parent\n",
    "print(main_dir)\n",
    "data_dir = str(main_dir) + \"/data\"\n",
    "print(data_dir)\n",
    "\n",
    "\n"
   ]
  },
  {
   "cell_type": "code",
   "execution_count": null,
   "id": "a9961242",
   "metadata": {},
   "outputs": [],
   "source": [
    "#=================================================-\n",
    "#### Slide 9: Series  ####\n",
    "\n",
    "num_series = pd.Series([45, 89, 67, 33])\n",
    "print(num_series)\n",
    "print(num_series.values)\n",
    "\n",
    "\n"
   ]
  },
  {
   "cell_type": "code",
   "execution_count": null,
   "id": "43f85d9b",
   "metadata": {},
   "outputs": [],
   "source": [
    "#=================================================-\n",
    "#### Slide 10: Date series: ranges by month  ####\n",
    "\n",
    "# Create a date range in monthly intervals\n",
    "print(pd.date_range(start = '20170101', end = '20170331', freq = 'M'))\n",
    "# Create a date range with no end date, but specifying start date, frequency, and number of periods\n",
    "print(pd.date_range(start = '20170101', freq = 'M', periods = 4))\n",
    "\n",
    "\n"
   ]
  },
  {
   "cell_type": "code",
   "execution_count": null,
   "id": "7847f3d8",
   "metadata": {},
   "outputs": [],
   "source": [
    "#=================================================-\n",
    "#### Slide 11: Date series: ranges by hour  ####\n",
    "\n",
    "print(pd.date_range(start = '20170101', end = '20170102', freq = 'H'))\n",
    "\n",
    "\n"
   ]
  },
  {
   "cell_type": "code",
   "execution_count": null,
   "id": "1dc1be40",
   "metadata": {},
   "outputs": [],
   "source": [
    "#=================================================-\n",
    "#### Slide 12: Series methods  ####\n",
    "\n",
    "norm_series = pd.Series(np.arange(5, 20, 5))\n",
    "print(norm_series)\n",
    "\n",
    "\n"
   ]
  },
  {
   "cell_type": "code",
   "execution_count": null,
   "id": "878d4b65",
   "metadata": {},
   "outputs": [],
   "source": [
    "#=================================================-\n",
    "#### Slide 14: Series - functions  ####\n",
    "\n",
    "print(norm_series.shape)    #<- number of rows and columns\n",
    "\n",
    "print(norm_series.mean())   #<- series mean\n",
    "\n",
    "print(norm_series.median()) #<- series median\n",
    "\n",
    "print(norm_series.std())    #<- series std deviation\n",
    "\n",
    "\n"
   ]
  },
  {
   "cell_type": "code",
   "execution_count": null,
   "id": "414e29cb",
   "metadata": {},
   "outputs": [],
   "source": [
    "#=================================================-\n",
    "#### Slide 15: Series - functions  ####\n",
    "\n",
    "# Show only unique values.\n",
    "print(norm_series.unique())\n",
    "# Show number of unique values.\n",
    "print(norm_series.nunique())      \n",
    "# Show counts of unique values.\n",
    "print(norm_series.value_counts()) \n",
    "# Position of the min value.\n",
    "print(norm_series.idxmin()) \n",
    "# Position of the max value.\n",
    "print(norm_series.idxmax())       \n",
    "\n",
    "\n"
   ]
  },
  {
   "cell_type": "code",
   "execution_count": null,
   "id": "69ada186",
   "metadata": {},
   "outputs": [],
   "source": [
    "#=================================================-\n",
    "#### Slide 16: Series - rank  ####\n",
    "\n",
    "# Ranks from smallest to largest.\n",
    "print(norm_series.rank())   \n",
    "# Ranks from largest to smallest.\n",
    "print(norm_series.rank(ascending = False))   \n",
    "\n",
    "\n"
   ]
  },
  {
   "cell_type": "code",
   "execution_count": null,
   "id": "3227d85f",
   "metadata": {},
   "outputs": [],
   "source": [
    "#=================================================-\n",
    "#### Slide 17: Series - sort and cumulative sum  ####\n",
    "\n",
    "# Sorts values.\n",
    "print(norm_series.sort_values())   \n",
    "# Returns a series that is the cumulative sum of `norm_series`. \n",
    "print(norm_series.cumsum())       \n",
    "\n",
    "\n",
    "#######################################################\n",
    "####  CONGRATULATIONS ON COMPLETING THIS MODULE!   ####\n",
    "#######################################################\n"
   ]
  },
  {
   "cell_type": "code",
   "execution_count": null,
   "id": "8690d59e",
   "metadata": {},
   "outputs": [],
   "source": [
    "#######################################################\n",
    "#######################################################\n",
    "############    COPYRIGHT - DATA SOCIETY   ############\n",
    "#######################################################\n",
    "#######################################################\n",
    "\n",
    "## DATAWRANGLINGINPYTHON/DATAWRANGLINGWITHPANDAS/DATAWRANGLINGINPYTHON DATAWRANGLINGWITHPANDAS 2 ##\n",
    "\n",
    "## NOTE: To run individual pieces of code, select the line of code and\n",
    "##       press ctrl + enter for PCs or command + enter for Macs\n",
    "\n",
    "\n"
   ]
  },
  {
   "cell_type": "code",
   "execution_count": null,
   "id": "7d95fb74",
   "metadata": {},
   "outputs": [],
   "source": [
    "#=================================================-\n",
    "#### Slide 3: Series to DataFrame  ####\n",
    "\n",
    "# Series 1 - times:\n",
    "times = pd.date_range(start = '20170101', end = '20170630', freq = 'M')\n",
    "\n",
    "# Series 2 - days out of the office:\n",
    "days = pd.Series([2, 2, 6, 6, 2, 3])\n",
    "\n",
    "\n"
   ]
  },
  {
   "cell_type": "code",
   "execution_count": null,
   "id": "3849c8e2",
   "metadata": {},
   "outputs": [],
   "source": [
    "#=================================================-\n",
    "#### Slide 4: Generate DataFrame from Series  ####\n",
    "\n",
    "# Create a DataFrame from the two Series we just created, as a dictionary.\n",
    "average_ooo = pd.DataFrame({'Timestamp': times, 'OOO': days})\n",
    "\n",
    "# View the first few rows of the DataFrame, using the Pandas function `.head()`.\n",
    "print(average_ooo.head())\n",
    "\n",
    "\n"
   ]
  },
  {
   "cell_type": "code",
   "execution_count": null,
   "id": "df1b478d",
   "metadata": {},
   "outputs": [],
   "source": [
    "#=================================================-\n",
    "#### Slide 5: Look up DataFrame information  ####\n",
    "\n",
    "# Look up the type of object.\n",
    "print(type(average_ooo))  \n",
    "# Look up its shape.\n",
    "print(average_ooo.shape) \n",
    "\n",
    "\n"
   ]
  },
  {
   "cell_type": "code",
   "execution_count": null,
   "id": "0e0b7f2d",
   "metadata": {},
   "outputs": [],
   "source": [
    "#=================================================-\n",
    "#### Slide 7: DataFrame description metrics (cont'd)  ####\n",
    "\n",
    "print(average_ooo.columns)\n",
    "print(average_ooo.info())\n",
    "print(average_ooo.describe())\n",
    "\n",
    "\n"
   ]
  },
  {
   "cell_type": "code",
   "execution_count": null,
   "id": "f0232a32",
   "metadata": {},
   "outputs": [],
   "source": [
    "#=================================================-\n",
    "#### Slide 8: Extracting a single column   ####\n",
    "\n",
    "print(average_ooo['Timestamp'])\n",
    "\n",
    "\n"
   ]
  },
  {
   "cell_type": "code",
   "execution_count": null,
   "id": "3fcd897c",
   "metadata": {},
   "outputs": [],
   "source": [
    "#=================================================-\n",
    "#### Slide 9: Extracting multiple columns   ####\n",
    "\n",
    "print(average_ooo[['Timestamp', 'OOO']])\n",
    "\n",
    "\n"
   ]
  },
  {
   "cell_type": "code",
   "execution_count": null,
   "id": "695e9c84",
   "metadata": {},
   "outputs": [],
   "source": [
    "#=================================================-\n",
    "#### Slide 10: Extracting a single row  ####\n",
    "\n",
    "june_ooo = average_ooo.iloc[5, :]\n",
    "print(june_ooo)\n",
    "\n",
    "june_ooo = average_ooo.iloc[5] #<- equivalent without the colon\n",
    "print(june_ooo)\n",
    "\n",
    "\n"
   ]
  },
  {
   "cell_type": "code",
   "execution_count": null,
   "id": "5a806b7e",
   "metadata": {},
   "outputs": [],
   "source": [
    "#=================================================-\n",
    "#### Slide 13: Index for our dataset  ####\n",
    "\n",
    "# Let's use the `Timestamp` column as our new index.\n",
    "average_ooo = average_ooo.set_index('Timestamp')\n",
    "print(average_ooo)\n",
    "\n",
    "\n"
   ]
  },
  {
   "cell_type": "code",
   "execution_count": null,
   "id": "94886a8f",
   "metadata": {},
   "outputs": [],
   "source": [
    "#=================================================-\n",
    "#### Slide 14: Looking up by the new index  ####\n",
    "\n",
    "print(average_ooo.index)\n",
    "# Look up a specific row by index.\n",
    "print(average_ooo.loc['2017-02-28'])\n",
    "\n",
    "\n"
   ]
  },
  {
   "cell_type": "code",
   "execution_count": null,
   "id": "c2480092",
   "metadata": {},
   "outputs": [],
   "source": [
    "#=================================================-\n",
    "#### Slide 15: Loc vs. iloc  ####\n",
    "\n",
    "print(average_ooo.iloc[1])\n",
    "\n",
    "\n"
   ]
  },
  {
   "cell_type": "code",
   "execution_count": null,
   "id": "9f5a7709",
   "metadata": {},
   "outputs": [],
   "source": [
    "#=================================================-\n",
    "#### Slide 16: Reset the index  ####\n",
    "\n",
    "average_ooo = average_ooo.reset_index()\n",
    "print(average_ooo.index)\n",
    "# You can see that now `Timestamp` is once again a column vs. what it looked like when it was an index.\n",
    "print(average_ooo) \n",
    "\n",
    "\n",
    "#######################################################\n",
    "####  CONGRATULATIONS ON COMPLETING THIS MODULE!   ####\n",
    "#######################################################\n"
   ]
  },
  {
   "cell_type": "code",
   "execution_count": null,
   "id": "5694afe3",
   "metadata": {},
   "outputs": [],
   "source": [
    "#######################################################\n",
    "#######################################################\n",
    "############    COPYRIGHT - DATA SOCIETY   ############\n",
    "#######################################################\n",
    "#######################################################\n",
    "\n",
    "## DATAWRANGLINGINPYTHON/DATAWRANGLINGWITHPANDAS/DATAWRANGLINGINPYTHON DATAWRANGLINGWITHPANDAS 3 ##\n",
    "\n",
    "## NOTE: To run individual pieces of code, select the line of code and\n",
    "##       press ctrl + enter for PCs or command + enter for Macs\n",
    "\n",
    "\n"
   ]
  },
  {
   "cell_type": "code",
   "execution_count": null,
   "id": "461a9e97",
   "metadata": {},
   "outputs": [],
   "source": [
    "#=================================================-\n",
    "#### Slide 5: Read data from csv file  ####\n",
    "\n",
    "df = pd.read_csv(str(data_dir)+\"/\"+ 'healthcare-dataset-stroke-data.csv')\n",
    "print(df.head())\n",
    "\n",
    "\n"
   ]
  },
  {
   "cell_type": "code",
   "execution_count": null,
   "id": "c83df659",
   "metadata": {},
   "outputs": [],
   "source": [
    "#=================================================-\n",
    "#### Slide 7: Inspect data   ####\n",
    "\n",
    "print(type(df))  #<- a Pandas DataFrame!\n",
    "\n",
    "print(len(df))   #<- returns the number of rows\n",
    "# You can also save the shape of the dataframe into 2 variables \n",
    "# (since the returned is a tuple with 2 values).\n",
    "\n",
    "nrows, ncols = df.shape\n",
    "print(nrows)      #<- returns the number of rows, or observations\n",
    "print(ncols)      #<- returns the number of columns, or variables\n",
    "\n",
    "\n"
   ]
  },
  {
   "cell_type": "code",
   "execution_count": null,
   "id": "9a609598",
   "metadata": {},
   "outputs": [],
   "source": [
    "#=================================================-\n",
    "#### Slide 8: Previewing data - using head method  ####\n",
    "\n",
    "print(df.head())  #<- pulls the first 5 rows (the default is 5)\n",
    "\n",
    "\n"
   ]
  },
  {
   "cell_type": "code",
   "execution_count": null,
   "id": "ce02199d",
   "metadata": {},
   "outputs": [],
   "source": [
    "#=================================================-\n",
    "#### Slide 9: Previewing data - using head method (cont'd)  ####\n",
    "\n",
    "print(df.head(3)) #<- pulls the first 3 rows\n",
    "\n",
    "\n"
   ]
  },
  {
   "cell_type": "code",
   "execution_count": null,
   "id": "583209ce",
   "metadata": {},
   "outputs": [],
   "source": [
    "#=================================================-\n",
    "#### Slide 10: Previewing data - using sample method  ####\n",
    "\n",
    "print(df.sample(n = 3))      #<- 3 random rows\n",
    "\n",
    "\n"
   ]
  },
  {
   "cell_type": "code",
   "execution_count": null,
   "id": "15581119",
   "metadata": {},
   "outputs": [],
   "source": [
    "#=================================================-\n",
    "#### Slide 11: Previewing data - using sample method (cont'd)  ####\n",
    "\n",
    "print(df.sample(frac = .02)) #<- a random 2% of the rows\n",
    "\n",
    "\n"
   ]
  },
  {
   "cell_type": "code",
   "execution_count": null,
   "id": "50a545e9",
   "metadata": {},
   "outputs": [],
   "source": [
    "#=================================================-\n",
    "#### Slide 12: Reviewing the data  ####\n",
    "\n",
    "print(df.columns)\n",
    "print(df.dtypes)\n",
    "\n",
    "\n"
   ]
  },
  {
   "cell_type": "code",
   "execution_count": null,
   "id": "d3f8cc5f",
   "metadata": {},
   "outputs": [],
   "source": [
    "#=================================================-\n",
    "#### Slide 13: Reviewing the data - info  ####\n",
    "\n",
    "print(df.info())  \n",
    "\n",
    "\n"
   ]
  },
  {
   "cell_type": "code",
   "execution_count": null,
   "id": "d6c2ca13",
   "metadata": {},
   "outputs": [],
   "source": [
    "#=================================================-\n",
    "#### Slide 14: Reviewing the data - describe  ####\n",
    "\n",
    "print(df.describe())\n",
    "\n",
    "\n"
   ]
  },
  {
   "cell_type": "code",
   "execution_count": null,
   "id": "06d2e7b9",
   "metadata": {},
   "outputs": [],
   "source": [
    "#=================================================-\n",
    "#### Slide 15: Reviewing the data - index  ####\n",
    "\n",
    "print(df.index)\n",
    "df = df.set_index(['id'])\n",
    "print(df.index)\n",
    "\n",
    "\n"
   ]
  },
  {
   "cell_type": "code",
   "execution_count": null,
   "id": "a25d19f8",
   "metadata": {},
   "outputs": [],
   "source": [
    "#=================================================-\n",
    "#### Slide 16: Looking up by ID  ####\n",
    "\n",
    "# Look up a specific row by index.\n",
    "# Rake a random index from the dataframe\n",
    "np.set_printoptions(suppress=True)\n",
    "index_random = np.random.permutation(df.index)[:1]\n",
    "print(index_random)\n",
    "print(df.loc[index_random])\n",
    "\n",
    "\n"
   ]
  },
  {
   "cell_type": "code",
   "execution_count": null,
   "id": "e3556704",
   "metadata": {},
   "outputs": [],
   "source": [
    "#=================================================-\n",
    "#### Slide 17: Looking up by ID (cont'd)  ####\n",
    "\n",
    "print(df.loc[np.random.permutation(df.index)[:10]])\n",
    "\n",
    "\n"
   ]
  },
  {
   "cell_type": "code",
   "execution_count": null,
   "id": "93ac1168",
   "metadata": {},
   "outputs": [],
   "source": [
    "#=================================================-\n",
    "#### Slide 18: Looking up with iloc  ####\n",
    "\n",
    "# Look up a specific row by index.\n",
    "print(df.iloc[1])\n",
    "\n",
    "\n"
   ]
  },
  {
   "cell_type": "code",
   "execution_count": null,
   "id": "739756e2",
   "metadata": {},
   "outputs": [],
   "source": [
    "#=================================================-\n",
    "#### Slide 19: Resetting the index  ####\n",
    "\n",
    "df = df.reset_index()\n",
    "\n",
    "\n",
    "#######################################################\n",
    "####  CONGRATULATIONS ON COMPLETING THIS MODULE!   ####\n",
    "#######################################################\n"
   ]
  },
  {
   "cell_type": "code",
   "execution_count": null,
   "id": "f0e127e2",
   "metadata": {},
   "outputs": [],
   "source": [
    "#######################################################\n",
    "#######################################################\n",
    "############    COPYRIGHT - DATA SOCIETY   ############\n",
    "#######################################################\n",
    "#######################################################\n",
    "\n",
    "## DATAWRANGLINGINPYTHON/DATAWRANGLINGWITHPANDAS/DATAWRANGLINGINPYTHON DATAWRANGLINGWITHPANDAS 4 ##\n",
    "\n",
    "## NOTE: To run individual pieces of code, select the line of code and\n",
    "##       press ctrl + enter for PCs or command + enter for Macs\n",
    "\n",
    "\n"
   ]
  },
  {
   "cell_type": "code",
   "execution_count": null,
   "id": "50d3cf1a",
   "metadata": {},
   "outputs": [],
   "source": [
    "#=================================================-\n",
    "#### Slide 2: DataFrame description metrics   ####\n",
    "\n",
    "print(df.describe())\n",
    "\n",
    "\n"
   ]
  },
  {
   "cell_type": "code",
   "execution_count": null,
   "id": "277d34f7",
   "metadata": {},
   "outputs": [],
   "source": [
    "#=================================================-\n",
    "#### Slide 4: Choosing columns for summarization  ####\n",
    "\n",
    "col_dict = df.nunique().to_dict()\n",
    "print(col_dict)\n",
    "\n",
    "\n"
   ]
  },
  {
   "cell_type": "code",
   "execution_count": null,
   "id": "02084b21",
   "metadata": {},
   "outputs": [],
   "source": [
    "#=================================================-\n",
    "#### Slide 5: Choosing columns for summarization (cont'd)  ####\n",
    "\n",
    "grouping_col = min(col_dict, key=col_dict.get)\n",
    "grouping_col\n",
    "\n",
    "\n"
   ]
  },
  {
   "cell_type": "code",
   "execution_count": null,
   "id": "af7b03fd",
   "metadata": {},
   "outputs": [],
   "source": [
    "#=================================================-\n",
    "#### Slide 6: Splitting using groupby()  ####\n",
    "\n",
    "grouped = df.groupby(grouping_col)\n",
    "print(grouped.first())\n",
    "\n",
    "\n"
   ]
  },
  {
   "cell_type": "code",
   "execution_count": null,
   "id": "ea45569c",
   "metadata": {},
   "outputs": [],
   "source": [
    "#=================================================-\n",
    "#### Slide 8: Groupby() and summary functions  ####\n",
    "\n",
    "# Let's count the number of IDs and create a DataFrame.\n",
    "df_ID = grouped.count()[['id']]\n",
    "print(df_ID)\n",
    "\n",
    "\n"
   ]
  },
  {
   "cell_type": "code",
   "execution_count": null,
   "id": "d9c052ff",
   "metadata": {},
   "outputs": [],
   "source": [
    "#=================================================-\n",
    "#### Slide 10: Sorting data with Pandas  ####\n",
    "\n",
    "print(df_ID.sort_values(by = ['id'], ascending = [False]))\n",
    "\n",
    "\n"
   ]
  },
  {
   "cell_type": "code",
   "execution_count": null,
   "id": "0f7d8e34",
   "metadata": {},
   "outputs": [],
   "source": [
    "#=================================================-\n",
    "#### Slide 11: Adding a new column  ####\n",
    "\n",
    "over100_ID = df_ID[['id']] > 100\n",
    "\n",
    "# Add the new column.\n",
    "df_ID['over100_ID'] = over100_ID\n",
    "print(df_ID.head())\n",
    "\n",
    "\n",
    "#######################################################\n",
    "####  CONGRATULATIONS ON COMPLETING THIS MODULE!   ####\n",
    "#######################################################\n"
   ]
  },
  {
   "cell_type": "code",
   "execution_count": null,
   "id": "7807ddb7",
   "metadata": {},
   "outputs": [],
   "source": [
    "#######################################################\n",
    "#######################################################\n",
    "############    COPYRIGHT - DATA SOCIETY   ############\n",
    "#######################################################\n",
    "#######################################################\n",
    "\n",
    "## DATAWRANGLINGINPYTHON/DATAWRANGLINGWITHPANDAS/DATAWRANGLINGINPYTHON DATAWRANGLINGWITHPANDAS 5 ##\n",
    "\n",
    "## NOTE: To run individual pieces of code, select the line of code and\n",
    "##       press ctrl + enter for PCs or command + enter for Macs\n",
    "\n",
    "\n"
   ]
  },
  {
   "cell_type": "code",
   "execution_count": null,
   "id": "fa65a3b5",
   "metadata": {},
   "outputs": [],
   "source": [
    "#=================================================-\n",
    "#### Slide 5: Creating a subset  ####\n",
    "\n",
    "df_subset = df[['bmi', 'avg_glucose_level', 'age', 'heart_disease', 'hypertension', 'stroke', 'Residence_type', 'ever_married', 'smoking_status', 'gender', 'work_type']]\n",
    "print(df_subset.head())\n",
    "\n",
    "\n"
   ]
  },
  {
   "cell_type": "code",
   "execution_count": null,
   "id": "63592dfc",
   "metadata": {},
   "outputs": [],
   "source": [
    "#=================================================-\n",
    "#### Slide 7: Data prep: clean NAs (cont'd)  ####\n",
    "\n",
    "print(df_subset.isnull().sum())\n",
    "\n",
    "\n"
   ]
  },
  {
   "cell_type": "code",
   "execution_count": null,
   "id": "37c8e054",
   "metadata": {},
   "outputs": [],
   "source": [
    "#=================================================-\n",
    "#### Slide 9: Data cleaning: NAs (cont'd)  ####\n",
    "\n",
    "# Set the DataFrame equal to the imputed dataset.\n",
    "df_subset[['bmi', 'avg_glucose_level', 'age']] = df_subset[['bmi', 'avg_glucose_level', 'age']].fillna(df_subset.mean())\n",
    "# Check how many values are null in the numerical variables.\n",
    "print(df_subset.isnull().sum())\n",
    "\n",
    "\n"
   ]
  },
  {
   "cell_type": "code",
   "execution_count": null,
   "id": "cb579f55",
   "metadata": {},
   "outputs": [],
   "source": [
    "#=================================================-\n",
    "#### Slide 13: Prepare data: group and summarize (cont'd)  ####\n",
    "\n",
    "col_dict = df_subset.nunique().to_dict()\n",
    "grouping_col = min(col_dict, key=col_dict.get)\n",
    "# Group data by variable with min levels.\n",
    "grouped = df_subset.groupby(grouping_col)\n",
    "# Compute mean on the listed variables using the grouped data.\n",
    "df_grouped_mean = grouped.mean()[['bmi', 'avg_glucose_level', 'age']]\n",
    "print(df_grouped_mean)\n",
    "\n",
    "\n"
   ]
  },
  {
   "cell_type": "code",
   "execution_count": null,
   "id": "20b4697b",
   "metadata": {},
   "outputs": [],
   "source": [
    "#=================================================-\n",
    "#### Slide 14: Prepare data: group and summarize (cont'd)  ####\n",
    "\n",
    "# Reset index of the dataset.\n",
    "df_grouped_mean = df_grouped_mean.reset_index()\n",
    "print(df_grouped_mean)\n",
    "\n",
    "\n"
   ]
  },
  {
   "cell_type": "code",
   "execution_count": null,
   "id": "b19fd5cc",
   "metadata": {},
   "outputs": [],
   "source": [
    "#=================================================-\n",
    "#### Slide 17: Wide to long format: melt (cont'd)  ####\n",
    "\n",
    "# Melt the wide data into long.\n",
    "df_grouped_mean_long = pd.melt(df_grouped_mean,       #<- wide dataset\n",
    "                                  id_vars = [grouping_col],     #<- identifying variable\n",
    "                                  var_name = 'metric',      #<- contains col names of wide data\n",
    "                                  value_name = 'mean')      #<- contains values from above columns\n",
    "print(df_grouped_mean_long)\n",
    "\n",
    "\n",
    "\n"
   ]
  },
  {
   "cell_type": "code",
   "execution_count": null,
   "id": "ec8afd71",
   "metadata": {},
   "outputs": [],
   "source": [
    "#=================================================-\n",
    "#### Slide 19: Long to wide format: pivot (cont'd)  ####\n",
    "\n",
    "# Melt the long data into wide.\n",
    "df_grouped_mean_wide = df_grouped_mean_long.pivot(\n",
    "                                                    index = [grouping_col],   #<- identifying variable\n",
    "                                                    columns = 'metric', #<- col names of wide data\n",
    "                                                    values = 'mean')    #<- values from above columns\n",
    "print(df_grouped_mean_wide)\n",
    "\n",
    "\n"
   ]
  },
  {
   "cell_type": "code",
   "execution_count": null,
   "id": "56d29686",
   "metadata": {},
   "outputs": [],
   "source": [
    "#=================================================-\n",
    "#### Slide 21: Exercise   ####\n",
    "\n",
    "\n",
    "\n",
    "\n",
    "#######################################################\n",
    "####  CONGRATULATIONS ON COMPLETING THIS MODULE!   ####\n",
    "#######################################################\n"
   ]
  }
 ],
 "metadata": {
  "language": "python"
 },
 "nbformat": 4,
 "nbformat_minor": 5
}
