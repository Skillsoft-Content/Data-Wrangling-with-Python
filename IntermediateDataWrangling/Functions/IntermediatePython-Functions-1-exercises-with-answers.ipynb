{
 "cells": [
  {
   "cell_type": "markdown",
   "id": "890bc0b6",
   "metadata": {},
   "source": [
    "## INTERMEDIATEPYTHON/FUNCTIONS/INTERMEDIATEPYTHON FUNCTIONS 1 EXERCISE ANSWERS ##\n",
    "#### Please refer to module 1 of IntroToPython - Functions for Tasks 1-5\n",
    "#### Task 1\n",
    "##### Create a simple function `PrintHello` that prints the message \"Hello World!\"\n",
    "##### Call the function to test whether it is working properly.\n",
    "#### Result:\n"
   ]
  },
  {
   "cell_type": "code",
   "execution_count": null,
   "id": "276b936a",
   "metadata": {},
   "outputs": [],
   "source": [
    "def PrintHello():\n",
    "    print('Hello World!')\n",
    "    \n",
    "PrintHello()\n"
   ]
  },
  {
   "cell_type": "markdown",
   "id": "e669a116",
   "metadata": {},
   "source": [
    "#### Task 2\n",
    "##### Modify your `PrintHello` function so that it takes a person's name as an argument and prints \"Hello, [name]!\".\n",
    "##### Call the function to test whether it is working properly. Try out a few different names. \n",
    "#### Result:\n"
   ]
  },
  {
   "cell_type": "code",
   "execution_count": null,
   "id": "3665c103",
   "metadata": {},
   "outputs": [],
   "source": [
    "def PrintHello(x):\n",
    "    print('Hello, ' + x + '!')\n",
    "    \n",
    "PrintHello('John')\n"
   ]
  },
  {
   "cell_type": "markdown",
   "id": "a8b717d9",
   "metadata": {},
   "source": [
    "#### Task 3\n",
    "##### Modify the function from Question 2 and name it `GetHelloMessage` so that it returns the message to be printed, but doesn't print it.\n",
    "##### Call the function, assign its output to a variable `output_message` and then print the `output_message`.\n",
    "#### Result:\n"
   ]
  },
  {
   "cell_type": "code",
   "execution_count": null,
   "id": "bde8f4f8",
   "metadata": {},
   "outputs": [],
   "source": [
    "def GetHelloMessage(x):\n",
    "    return 'Hello, ' + x + '!'\n",
    "    \n",
    "output_message = GetHelloMessage('John')\n",
    "print(output_message)\n"
   ]
  },
  {
   "cell_type": "markdown",
   "id": "8e933ff2",
   "metadata": {},
   "source": [
    "#### Task 4\n",
    "##### Create a function named `find_sum` that takes two parameters `a` and `b` and returns their sum.\n",
    "##### Let `a` have a default value equal to 3 and `b` have a default value equal to 2.\n",
    "##### Call the function without providing any arguments. What value do you get as a result?\n",
    "##### Call the function by giving it the 2 arguments: 7 and 10.\n",
    "##### Call the function providing a single argument 9 to the function. What value do you get in return?\n",
    "#### Result:\n"
   ]
  },
  {
   "cell_type": "code",
   "execution_count": null,
   "id": "ca0677ff",
   "metadata": {},
   "outputs": [],
   "source": [
    "def find_sum(a=3, b=2):\n",
    "    return a + b\n",
    "print(find_sum()) ## Your result should be the sum of the default arguments, 5.\n",
    "print(find_sum(7,10)) ## Your result should be the sum of the specified arguments, 17.\n",
    "print(find_sum(9)) ## Your result should be the sum of the overwritten default `a` and default `b`, 9 + 2 = 11.\n"
   ]
  },
  {
   "cell_type": "markdown",
   "id": "0ad013ac",
   "metadata": {},
   "source": [
    "#### Task 5\n",
    "##### Create an anonymous function that returns a reversed string and assign it to the `palindrome`.\n",
    "##### Call the function and use \"No lemon, no melon\" as the input and print the result.\n",
    "#### Result:\n"
   ]
  },
  {
   "cell_type": "code",
   "execution_count": null,
   "id": "eb276e52",
   "metadata": {},
   "outputs": [],
   "source": [
    "palindrome = lambda v : v[::-1]\n",
    "print(palindrome(\"No lemon, no melon\"))\n"
   ]
  },
  {
   "cell_type": "markdown",
   "id": "fd1b7217",
   "metadata": {},
   "source": [
    "#### Bonus Task 1\n",
    "##### Create a function called `factorial` which returns the factorial value of the given number `x`.\n",
    "##### Call the function to print the factorial of 5, try a few other values.\n",
    "##### _Hint: 4 factorial (4!) = 4 x 3 x 2 x 1 = 24._\n",
    "#### Result:\n"
   ]
  },
  {
   "cell_type": "code",
   "execution_count": null,
   "id": "3a484363",
   "metadata": {},
   "outputs": [],
   "source": [
    "def factorial(x):\n",
    "    result = 1\n",
    "    while x > 0:\n",
    "        result = x * result\n",
    "        x = x - 1\n",
    "    return result\n",
    "factorial(4)\n"
   ]
  }
 ],
 "metadata": {
  "language": "python"
 },
 "nbformat": 4,
 "nbformat_minor": 5
}
