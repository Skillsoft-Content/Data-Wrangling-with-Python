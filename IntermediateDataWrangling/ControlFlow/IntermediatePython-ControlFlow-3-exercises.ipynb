{
 "cells": [
  {
   "cell_type": "markdown",
   "id": "1f557618",
   "metadata": {},
   "source": [
    "## INTERMEDIATEPYTHON/CONTROLFLOW/INTERMEDIATEPYTHON CONTROLFLOW 3 EXERCISE  ##\n",
    "#### Please refer to module 1 of IntermediatePython - ControlFlow for Tasks 1-4 \n",
    "#### Task 1\n",
    "##### Let `x` be equal to -56.\n",
    "##### Build a conditional statement that checks whether the absolute value of `x` is greater than or equal to `x*(-1)` OR  whether `x` is less than `100/(-2)`.\n",
    "##### Print the result.\n",
    "#### Result:\n"
   ]
  },
  {
   "cell_type": "code",
   "execution_count": null,
   "id": "c3a616af",
   "metadata": {},
   "outputs": [],
   "source": []
  },
  {
   "cell_type": "markdown",
   "id": "d1cad640",
   "metadata": {},
   "source": [
    "#### Task 2\n",
    "##### Assign the conditional statement from Task 1 to a variable `condition_1`.\n",
    "##### Create a variable `condition_2` and assign it the following conditional expression: check if string `\"ABC\"` is equal to string `\"abc\"`.\n",
    "##### Let `output` variable be the output of the following compound expression: check whether `condition_1` and `condition_2` both hold.\n",
    "##### Print the `output` variable.\n",
    "##### Which of the two conditions is `False`? Why do you think that's the case?\n",
    "#### Result:\n"
   ]
  },
  {
   "cell_type": "code",
   "execution_count": null,
   "id": "1d80f190",
   "metadata": {},
   "outputs": [],
   "source": []
  },
  {
   "cell_type": "markdown",
   "id": "ad522928",
   "metadata": {},
   "source": [
    "#### Task 3\n",
    "##### Create a variable `x`. Assign any number to `x`.\n",
    "##### Now build the following `if-else` statement to check if `x` is an `odd` or an `even` number: If `x` is even, print \"x is even\"; otherwise print \"x is odd\".\n",
    "##### *Hint: you can find out if a number is odd or even by using the modulus symbol %.*\n",
    "##### Try out different values of `x` and check what output you get when running the `if-else` block.\n",
    "#### Result:\n"
   ]
  },
  {
   "cell_type": "code",
   "execution_count": null,
   "id": "1190cfce",
   "metadata": {},
   "outputs": [],
   "source": []
  },
  {
   "cell_type": "markdown",
   "id": "df29556f",
   "metadata": {},
   "source": [
    "#### Task 4    \n",
    "##### Let variable `item_price` be equal to any number between 1000 and 3000.\n",
    "##### Build the following nested `if-else` statement:\n",
    "##### If `item_price` is less than 3000, then check whether it is less than 1800,\n",
    "#####     If it is less than or equal to 1800, then print \"I'll buy 2 items\"\n",
    "#####     Otherwise, print \"I'll buy 1 item\"\n",
    "##### If `item_price` is not less than 3000, print \"This item is too expensive for me!\"\n",
    "##### Try out a few different values within the same range, check the output each time.\n",
    "#### Result:\n"
   ]
  },
  {
   "cell_type": "code",
   "execution_count": null,
   "id": "1ed03d4a",
   "metadata": {},
   "outputs": [],
   "source": []
  },
  {
   "cell_type": "markdown",
   "id": "888f402d",
   "metadata": {},
   "source": [
    "#### Please refer to module 2 of IntermediatePython - ControlFlow for Tasks 5-8 \n",
    "#### Task 5\n",
    "##### Make a shopping list that consists of following items and assign it to a variable `shopping_list`:\n",
    "- milk\n",
    "- eggs\n",
    "- peppers\n",
    "- cheese\n",
    "- tomatoes\n",
    "##### For each of the items in the list, do the following using a single `for` loop:\n",
    "- Print \"Add [item] to cart\"\n",
    "- Print \"Pay for [item]\"\n",
    "- Print \"Put [item] into shopping bag\"\n",
    "##### What do you think this is a recipe for? :)\n",
    "#### Result:\n"
   ]
  },
  {
   "cell_type": "code",
   "execution_count": null,
   "id": "cf3df91b",
   "metadata": {},
   "outputs": [],
   "source": []
  },
  {
   "cell_type": "markdown",
   "id": "3a153d8b",
   "metadata": {},
   "source": [
    "#### Task 6\n",
    "##### As in Task 5, create a  `for` loop. \n",
    "##### This time, make one that looks up the item in the list using its index.\n",
    "##### Hint: make use of a variable like `list_length` that captures the length of the `shopping_list` variable! \n",
    "#### Result:\n"
   ]
  },
  {
   "cell_type": "code",
   "execution_count": null,
   "id": "c3731ce6",
   "metadata": {},
   "outputs": [],
   "source": []
  },
  {
   "cell_type": "markdown",
   "id": "54728789",
   "metadata": {},
   "source": [
    "#### Task 7\n",
    "##### Create a list `num_list` of all values between 50 and 130 (not including 130)\n",
    "##### that are evenly divisible by 21 (i.e. where the remainder = 0).\n",
    "##### Create using list comprehension.\n",
    "##### Hint: What is the syntax for returning the remainder?\n",
    "#### Result:\n"
   ]
  },
  {
   "cell_type": "code",
   "execution_count": null,
   "id": "7ce15b16",
   "metadata": {},
   "outputs": [],
   "source": []
  },
  {
   "cell_type": "markdown",
   "id": "2607c441",
   "metadata": {},
   "source": [
    "#### Task 8\n",
    "##### Use the dictionary `family` given below.\n",
    "##### Print the name and the age of each member of the family.\n",
    "#### family = {'Max':10, 'Marie':12, 'John':40, 'Jane':38}\n",
    "#### Result:\n"
   ]
  },
  {
   "cell_type": "code",
   "execution_count": null,
   "id": "f07653dc",
   "metadata": {},
   "outputs": [],
   "source": []
  },
  {
   "cell_type": "markdown",
   "id": "dd1eba53",
   "metadata": {},
   "source": [
    "#### Please refer to module 3 of IntermediatePython - ControlFlow for Tasks 9-11 \n",
    "#### Task 9\n",
    "##### Re-write the loop from Task 5 using the `while` construct.\n",
    "#### Result:\n"
   ]
  },
  {
   "cell_type": "code",
   "execution_count": null,
   "id": "59128865",
   "metadata": {},
   "outputs": [],
   "source": []
  },
  {
   "cell_type": "markdown",
   "id": "ba4becde",
   "metadata": {},
   "source": [
    "#### Task 10\n",
    "##### Create a variable `my_list` = ['introduction', 'to', 'programming', 'in', 'python']\n",
    "##### Use a `while` loop to print all elements in the list, from the first to the last.\n",
    "#### Result:\n"
   ]
  },
  {
   "cell_type": "code",
   "execution_count": null,
   "id": "fc2fec89",
   "metadata": {},
   "outputs": [],
   "source": []
  },
  {
   "cell_type": "markdown",
   "id": "1bf0ab31",
   "metadata": {},
   "source": [
    "#### Task 11\n",
    "##### Create a list of 30 random integers from 1 to 100 using either for loop or list comprehension.\n",
    "##### Hint: random.randint(1, 100) will give you 1 random integer in 1 to 100.\n",
    "##### Create a variable `my_num` = 44.\n",
    "##### Use a while loop to print all numbers in `numbers` .\n",
    "##### If `my_num` is found, terminate the loop and print: Found my number!\n",
    "##### Hint: use break\n"
   ]
  },
  {
   "cell_type": "code",
   "execution_count": null,
   "id": "f502c3e6",
   "metadata": {},
   "outputs": [],
   "source": [
    "# Run this chunk of code before you answer the question below!\n",
    "import random\n",
    "random.seed(123)\n"
   ]
  },
  {
   "cell_type": "markdown",
   "id": "d6b55da8",
   "metadata": {},
   "source": [
    "#### Result:\n"
   ]
  },
  {
   "cell_type": "code",
   "execution_count": null,
   "id": "7266a1c9",
   "metadata": {},
   "outputs": [],
   "source": []
  }
 ],
 "metadata": {
  "language": "python"
 },
 "nbformat": 4,
 "nbformat_minor": 5
}
